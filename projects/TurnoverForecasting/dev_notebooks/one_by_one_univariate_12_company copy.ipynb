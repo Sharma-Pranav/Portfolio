{
 "cells": [
  {
   "cell_type": "code",
   "execution_count": 7,
   "metadata": {},
   "outputs": [],
   "source": [
    "import pandas as pd\n",
    "import numpy as np\n",
    "import itertools\n",
    "import plotly.express as px\n",
    "import plotly.graph_objects as go\n",
    "import matplotlib.pyplot as plt\n",
    "import warnings\n",
    "from statsmodels.tsa.statespace.sarimax import SARIMAX\n",
    "from sklearn.metrics import mean_absolute_error, mean_squared_error, mean_absolute_percentage_error, r2_score\n",
    "from sklearn.model_selection import TimeSeriesSplit\n",
    "from rich.console import Console\n",
    "from rich.progress import Progress\n",
    "\n",
    "# Suppress warnings\n",
    "warnings.filterwarnings(\"ignore\")\n",
    "console = Console()\n"
   ]
  },
  {
   "cell_type": "code",
   "execution_count": 8,
   "metadata": {},
   "outputs": [],
   "source": [
    "def load_data(filepath):\n",
    "    \"\"\"\n",
    "    Load the dataset from a CSV file.\n",
    "    \"\"\"\n",
    "    df = pd.read_csv(filepath)\n",
    "    df[\"Period\"] = pd.to_datetime(df[\"Period\"], format=\"%m/%d/%Y\")\n",
    "    return df"
   ]
  },
  {
   "cell_type": "code",
   "execution_count": 9,
   "metadata": {},
   "outputs": [],
   "source": [
    "def preprocess_data(df, company):\n",
    "    \"\"\"\n",
    "    Preprocesses data for a given company.\n",
    "    - Filters the dataset for the selected company.\n",
    "    - Sorts values by the period.\n",
    "    - Converts the Revenue column to numeric format to handle any non-numeric values.\n",
    "      This ensures that calculations such as forecasting and error measurements work correctly.\n",
    "    \"\"\"\n",
    "    company_df = df[df[\"Company\"] == company].copy()\n",
    "    company_df = company_df.sort_values(by=\"Period\")\n",
    "    company_df.set_index(\"Period\", inplace=True)\n",
    "    company_df[\"Revenue\"] = pd.to_numeric(company_df[\"Revenue\"], errors=\"coerce\")\n",
    "    return company_df[\"Revenue\"].dropna()"
   ]
  },
  {
   "cell_type": "code",
   "execution_count": 10,
   "metadata": {},
   "outputs": [],
   "source": [
    "def train_sarima(train, test, best_cfg):\n",
    "    \"\"\"\n",
    "    Train the best SARIMA model and evaluate its performance.\n",
    "\n",
    "    Args:\n",
    "        train (pd.Series): Training data.\n",
    "        test (pd.Series): Test data.\n",
    "        best_cfg (tuple): Best SARIMA hyperparameters.\n",
    "\n",
    "    Returns:\n",
    "        dict: Model performance metrics.\n",
    "    \"\"\"\n",
    "    best_p, best_d, best_q, best_P, best_D, best_Q = best_cfg\n",
    "    S = 4  # Quarterly seasonality\n",
    "\n",
    "    # Train SARIMA model with best configuration\n",
    "    optimized_model = SARIMAX(\n",
    "        train, order=(best_p, best_d, best_q),\n",
    "        seasonal_order=(best_P, best_D, best_Q, S),\n",
    "        enforce_stationarity=False, enforce_invertibility=False\n",
    "    )\n",
    "    optimized_model_fit = optimized_model.fit(disp=False)\n",
    "\n",
    "    # Make predictions\n",
    "    optimized_predictions = optimized_model_fit.forecast(steps=len(test))\n",
    "\n",
    "    # Compute performance metrics\n",
    "    optimized_mae = mean_absolute_error(test, optimized_predictions)\n",
    "    optimized_rmse = np.sqrt(mean_squared_error(test, optimized_predictions))\n",
    "    optimized_mape = mean_absolute_percentage_error(test, optimized_predictions)\n",
    "    optimized_r2 = r2_score(test, optimized_predictions)\n",
    "\n",
    "    # Compute MASE (Mean Absolute Scaled Error)\n",
    "    naive_forecast = test.shift(1).dropna()\n",
    "    test_aligned = test.loc[naive_forecast.index]  # Align lengths\n",
    "    mase_denominator = mean_absolute_error(test_aligned, naive_forecast)\n",
    "    optimized_mase = optimized_mae / mase_denominator if mase_denominator != 0 else np.nan\n",
    "\n",
    "    return {\n",
    "        \"Best SARIMA Order\": best_cfg,\n",
    "        \"MAE\": optimized_mae,\n",
    "        \"RMSE\": optimized_rmse,\n",
    "        \"MAPE\": optimized_mape,\n",
    "        \"MASE\": optimized_mase,\n",
    "        \"R² Score\": optimized_r2\n",
    "    }\n",
    "\n",
    "def process_company(company, results):\n",
    "    \"\"\"\n",
    "    Processes a single company's data:\n",
    "    - Preprocess the data.\n",
    "    - Find the best SARIMA model.\n",
    "    - Train and evaluate the model.\n",
    "    - Store the results.\n",
    "    \"\"\"\n",
    "    console.print(f\"🚀 [bold blue]Processing {company}...[/bold blue]\")\n",
    "    series = preprocess_data(df, company)\n",
    "\n",
    "    if len(series) < 10:\n",
    "        console.print(f\"⚠️ [yellow]Skipping {company} due to insufficient data points.[/yellow]\")\n",
    "        return results\n",
    "\n",
    "    # Split data into train/test\n",
    "    train_size = int(len(series) * 0.8)\n",
    "    train, test = series[:train_size], series[train_size:]\n",
    "\n",
    "    # Find best SARIMA order\n",
    "    best_cfg = find_best_sarima(train)\n",
    "    console.print(f\"📊 [bold green]Best SARIMA order for {company}: {best_cfg}[/bold green]\")\n",
    "\n",
    "    # Train and evaluate SARIMA model\n",
    "    results[company] = train_sarima(train, test, best_cfg)\n",
    "\n",
    "    return results\n",
    "\n",
    "\n",
    "def find_best_sarima(train):\n",
    "    \"\"\"\n",
    "    Find the best SARIMA model using grid search.\n",
    "    \n",
    "    Parameter Ranges:\n",
    "    - `p_values` (Auto-Regressive terms): Typically, 0-2 is sufficient to capture most patterns.\n",
    "    - `d_values` (Differencing terms): 0-1 is generally enough for stationarity.\n",
    "    - `q_values` (Moving Average terms): 0-2 captures most real-world data behavior.\n",
    "    - `P_values` (Seasonal AR terms): Usually, 0-1 suffices for seasonal effects.\n",
    "    - `D_values` (Seasonal Differencing): Typically, 0-1 is sufficient for removing seasonal trends.\n",
    "    - `Q_values` (Seasonal MA terms): 0-1 captures most seasonal variations.\n",
    "    - `S`: Set to 4, assuming quarterly seasonality (adjust for different datasets).\n",
    "    \"\"\"\n",
    "    p_values = range(0, 3)\n",
    "    d_values = range(0, 2)\n",
    "    q_values = range(0, 3)\n",
    "    P_values = range(0, 2)\n",
    "    D_values = range(0, 2)\n",
    "    Q_values = range(0, 2)\n",
    "    S = 4  # Quarterly seasonality\n",
    "\n",
    "    best_score, best_cfg = float(\"inf\"), None\n",
    "    total_combinations = len(p_values) * len(d_values) * len(q_values) * len(P_values) * len(D_values) * len(Q_values)\n",
    "\n",
    "    console.print(f\"🔍 [bold cyan]Searching best SARIMA model... ({total_combinations} combinations)[/bold cyan]\")\n",
    "\n",
    "    with Progress() as progress:\n",
    "        task = progress.add_task(\"[green]Optimizing SARIMA...\", total=total_combinations)\n",
    "\n",
    "        for p, d, q, P, D, Q in itertools.product(p_values, d_values, q_values, P_values, D_values, Q_values):\n",
    "            if q == Q:\n",
    "                continue\n",
    "            try:\n",
    "                model = SARIMAX(train, order=(p, d, q), seasonal_order=(P, D, Q, S),\n",
    "                                enforce_stationarity=False, enforce_invertibility=False)\n",
    "                model_fit = model.fit(disp=False)\n",
    "                predictions = model_fit.forecast(steps=len(train))\n",
    "                error = mean_absolute_error(train, predictions)\n",
    "                if error < best_score:\n",
    "                    best_score, best_cfg = error, (p, d, q, P, D, Q)\n",
    "            except:\n",
    "                continue\n",
    "            progress.update(task, advance=1)\n",
    "\n",
    "    console.print(f\"✅ [bold green]Best SARIMA order found:[/bold green] {best_cfg} with MAE = {best_score:.2f}\")\n",
    "    return best_cfg"
   ]
  },
  {
   "cell_type": "code",
   "execution_count": null,
   "metadata": {},
   "outputs": [],
   "source": []
  },
  {
   "cell_type": "code",
   "execution_count": 11,
   "metadata": {},
   "outputs": [],
   "source": [
    "def main(filepath):\n",
    "    \"\"\"\n",
    "    Main function to run the SARIMA model pipeline.\n",
    "    \n",
    "    Steps:\n",
    "    1. Load the dataset.\n",
    "    2. Iterate through each unique company in the dataset.\n",
    "    3. Preprocess the data for each company.\n",
    "    4. Optimize the SARIMA parameters using grid search.\n",
    "    5. Validate the model using Walk-Forward Validation and Time-Series Cross-Validation.\n",
    "    6. Store the results and display them as a dataframe.\n",
    "    \"\"\"\n",
    "    global df\n",
    "    df = load_data(filepath)\n",
    "    results = {}\n",
    "    for company in df[\"Company\"].unique():\n",
    "        results = process_company(company, results)\n",
    "    results_df = pd.DataFrame.from_dict(results, orient='index')\n",
    "    print(results_df)\n"
   ]
  },
  {
   "cell_type": "code",
   "execution_count": 12,
   "metadata": {},
   "outputs": [
    {
     "data": {
      "text/html": [
       "<pre style=\"white-space:pre;overflow-x:auto;line-height:normal;font-family:Menlo,'DejaVu Sans Mono',consolas,'Courier New',monospace\">🚀 <span style=\"color: #000080; text-decoration-color: #000080; font-weight: bold\">Processing Volkswagen AG...</span>\n",
       "</pre>\n"
      ],
      "text/plain": [
       "🚀 \u001b[1;34mProcessing Volkswagen AG\u001b[0m\u001b[1;34m...\u001b[0m\n"
      ]
     },
     "metadata": {},
     "output_type": "display_data"
    },
    {
     "data": {
      "text/html": [
       "<pre style=\"white-space:pre;overflow-x:auto;line-height:normal;font-family:Menlo,'DejaVu Sans Mono',consolas,'Courier New',monospace\">🔍 <span style=\"color: #008080; text-decoration-color: #008080; font-weight: bold\">Searching best SARIMA model... (</span><span style=\"color: #008080; text-decoration-color: #008080; font-weight: bold\">144</span><span style=\"color: #008080; text-decoration-color: #008080; font-weight: bold\"> combinations)</span>\n",
       "</pre>\n"
      ],
      "text/plain": [
       "🔍 \u001b[1;36mSearching best SARIMA model\u001b[0m\u001b[1;36m...\u001b[0m\u001b[1;36m \u001b[0m\u001b[1;36m(\u001b[0m\u001b[1;36m144\u001b[0m\u001b[1;36m combinations\u001b[0m\u001b[1;36m)\u001b[0m\n"
      ]
     },
     "metadata": {},
     "output_type": "display_data"
    },
    {
     "data": {
      "application/vnd.jupyter.widget-view+json": {
       "model_id": "0d8ff1559392461fa984ddbba1fad58a",
       "version_major": 2,
       "version_minor": 0
      },
      "text/plain": [
       "Output()"
      ]
     },
     "metadata": {},
     "output_type": "display_data"
    },
    {
     "data": {
      "text/html": [
       "<pre style=\"white-space:pre;overflow-x:auto;line-height:normal;font-family:Menlo,'DejaVu Sans Mono',consolas,'Courier New',monospace\"></pre>\n"
      ],
      "text/plain": []
     },
     "metadata": {},
     "output_type": "display_data"
    },
    {
     "data": {
      "text/html": [
       "<pre style=\"white-space:pre;overflow-x:auto;line-height:normal;font-family:Menlo,'DejaVu Sans Mono',consolas,'Courier New',monospace\">✅ <span style=\"color: #008000; text-decoration-color: #008000; font-weight: bold\">Best SARIMA order found:</span> <span style=\"font-weight: bold\">(</span><span style=\"color: #008080; text-decoration-color: #008080; font-weight: bold\">0</span>, <span style=\"color: #008080; text-decoration-color: #008080; font-weight: bold\">0</span>, <span style=\"color: #008080; text-decoration-color: #008080; font-weight: bold\">2</span>, <span style=\"color: #008080; text-decoration-color: #008080; font-weight: bold\">0</span>, <span style=\"color: #008080; text-decoration-color: #008080; font-weight: bold\">1</span>, <span style=\"color: #008080; text-decoration-color: #008080; font-weight: bold\">0</span><span style=\"font-weight: bold\">)</span> with MAE = <span style=\"color: #008080; text-decoration-color: #008080; font-weight: bold\">2306532197.55</span>\n",
       "</pre>\n"
      ],
      "text/plain": [
       "✅ \u001b[1;32mBest SARIMA order found:\u001b[0m \u001b[1m(\u001b[0m\u001b[1;36m0\u001b[0m, \u001b[1;36m0\u001b[0m, \u001b[1;36m2\u001b[0m, \u001b[1;36m0\u001b[0m, \u001b[1;36m1\u001b[0m, \u001b[1;36m0\u001b[0m\u001b[1m)\u001b[0m with MAE = \u001b[1;36m2306532197.55\u001b[0m\n"
      ]
     },
     "metadata": {},
     "output_type": "display_data"
    },
    {
     "data": {
      "text/html": [
       "<pre style=\"white-space:pre;overflow-x:auto;line-height:normal;font-family:Menlo,'DejaVu Sans Mono',consolas,'Courier New',monospace\">📊 <span style=\"color: #008000; text-decoration-color: #008000; font-weight: bold\">Best SARIMA order for Volkswagen AG: (</span><span style=\"color: #008000; text-decoration-color: #008000; font-weight: bold\">0</span><span style=\"color: #008000; text-decoration-color: #008000; font-weight: bold\">, </span><span style=\"color: #008000; text-decoration-color: #008000; font-weight: bold\">0</span><span style=\"color: #008000; text-decoration-color: #008000; font-weight: bold\">, </span><span style=\"color: #008000; text-decoration-color: #008000; font-weight: bold\">2</span><span style=\"color: #008000; text-decoration-color: #008000; font-weight: bold\">, </span><span style=\"color: #008000; text-decoration-color: #008000; font-weight: bold\">0</span><span style=\"color: #008000; text-decoration-color: #008000; font-weight: bold\">, </span><span style=\"color: #008000; text-decoration-color: #008000; font-weight: bold\">1</span><span style=\"color: #008000; text-decoration-color: #008000; font-weight: bold\">, </span><span style=\"color: #008000; text-decoration-color: #008000; font-weight: bold\">0</span><span style=\"color: #008000; text-decoration-color: #008000; font-weight: bold\">)</span>\n",
       "</pre>\n"
      ],
      "text/plain": [
       "📊 \u001b[1;32mBest SARIMA order for Volkswagen AG: \u001b[0m\u001b[1;32m(\u001b[0m\u001b[1;32m0\u001b[0m\u001b[1;32m, \u001b[0m\u001b[1;32m0\u001b[0m\u001b[1;32m, \u001b[0m\u001b[1;32m2\u001b[0m\u001b[1;32m, \u001b[0m\u001b[1;32m0\u001b[0m\u001b[1;32m, \u001b[0m\u001b[1;32m1\u001b[0m\u001b[1;32m, \u001b[0m\u001b[1;32m0\u001b[0m\u001b[1;32m)\u001b[0m\n"
      ]
     },
     "metadata": {},
     "output_type": "display_data"
    },
    {
     "data": {
      "text/html": [
       "<pre style=\"white-space:pre;overflow-x:auto;line-height:normal;font-family:Menlo,'DejaVu Sans Mono',consolas,'Courier New',monospace\">🚀 <span style=\"color: #000080; text-decoration-color: #000080; font-weight: bold\">Processing Siemens AG...</span>\n",
       "</pre>\n"
      ],
      "text/plain": [
       "🚀 \u001b[1;34mProcessing Siemens AG\u001b[0m\u001b[1;34m...\u001b[0m\n"
      ]
     },
     "metadata": {},
     "output_type": "display_data"
    },
    {
     "data": {
      "text/html": [
       "<pre style=\"white-space:pre;overflow-x:auto;line-height:normal;font-family:Menlo,'DejaVu Sans Mono',consolas,'Courier New',monospace\">🔍 <span style=\"color: #008080; text-decoration-color: #008080; font-weight: bold\">Searching best SARIMA model... (</span><span style=\"color: #008080; text-decoration-color: #008080; font-weight: bold\">144</span><span style=\"color: #008080; text-decoration-color: #008080; font-weight: bold\"> combinations)</span>\n",
       "</pre>\n"
      ],
      "text/plain": [
       "🔍 \u001b[1;36mSearching best SARIMA model\u001b[0m\u001b[1;36m...\u001b[0m\u001b[1;36m \u001b[0m\u001b[1;36m(\u001b[0m\u001b[1;36m144\u001b[0m\u001b[1;36m combinations\u001b[0m\u001b[1;36m)\u001b[0m\n"
      ]
     },
     "metadata": {},
     "output_type": "display_data"
    },
    {
     "data": {
      "application/vnd.jupyter.widget-view+json": {
       "model_id": "46833b725aab4b0b9cd676f7345781b8",
       "version_major": 2,
       "version_minor": 0
      },
      "text/plain": [
       "Output()"
      ]
     },
     "metadata": {},
     "output_type": "display_data"
    },
    {
     "data": {
      "text/html": [
       "<pre style=\"white-space:pre;overflow-x:auto;line-height:normal;font-family:Menlo,'DejaVu Sans Mono',consolas,'Courier New',monospace\"></pre>\n"
      ],
      "text/plain": []
     },
     "metadata": {},
     "output_type": "display_data"
    },
    {
     "data": {
      "text/html": [
       "<pre style=\"white-space:pre;overflow-x:auto;line-height:normal;font-family:Menlo,'DejaVu Sans Mono',consolas,'Courier New',monospace\">✅ <span style=\"color: #008000; text-decoration-color: #008000; font-weight: bold\">Best SARIMA order found:</span> <span style=\"font-weight: bold\">(</span><span style=\"color: #008080; text-decoration-color: #008080; font-weight: bold\">0</span>, <span style=\"color: #008080; text-decoration-color: #008080; font-weight: bold\">1</span>, <span style=\"color: #008080; text-decoration-color: #008080; font-weight: bold\">0</span>, <span style=\"color: #008080; text-decoration-color: #008080; font-weight: bold\">0</span>, <span style=\"color: #008080; text-decoration-color: #008080; font-weight: bold\">0</span>, <span style=\"color: #008080; text-decoration-color: #008080; font-weight: bold\">1</span><span style=\"font-weight: bold\">)</span> with MAE = <span style=\"color: #008080; text-decoration-color: #008080; font-weight: bold\">3888506250.14</span>\n",
       "</pre>\n"
      ],
      "text/plain": [
       "✅ \u001b[1;32mBest SARIMA order found:\u001b[0m \u001b[1m(\u001b[0m\u001b[1;36m0\u001b[0m, \u001b[1;36m1\u001b[0m, \u001b[1;36m0\u001b[0m, \u001b[1;36m0\u001b[0m, \u001b[1;36m0\u001b[0m, \u001b[1;36m1\u001b[0m\u001b[1m)\u001b[0m with MAE = \u001b[1;36m3888506250.14\u001b[0m\n"
      ]
     },
     "metadata": {},
     "output_type": "display_data"
    },
    {
     "data": {
      "text/html": [
       "<pre style=\"white-space:pre;overflow-x:auto;line-height:normal;font-family:Menlo,'DejaVu Sans Mono',consolas,'Courier New',monospace\">📊 <span style=\"color: #008000; text-decoration-color: #008000; font-weight: bold\">Best SARIMA order for Siemens AG: (</span><span style=\"color: #008000; text-decoration-color: #008000; font-weight: bold\">0</span><span style=\"color: #008000; text-decoration-color: #008000; font-weight: bold\">, </span><span style=\"color: #008000; text-decoration-color: #008000; font-weight: bold\">1</span><span style=\"color: #008000; text-decoration-color: #008000; font-weight: bold\">, </span><span style=\"color: #008000; text-decoration-color: #008000; font-weight: bold\">0</span><span style=\"color: #008000; text-decoration-color: #008000; font-weight: bold\">, </span><span style=\"color: #008000; text-decoration-color: #008000; font-weight: bold\">0</span><span style=\"color: #008000; text-decoration-color: #008000; font-weight: bold\">, </span><span style=\"color: #008000; text-decoration-color: #008000; font-weight: bold\">0</span><span style=\"color: #008000; text-decoration-color: #008000; font-weight: bold\">, </span><span style=\"color: #008000; text-decoration-color: #008000; font-weight: bold\">1</span><span style=\"color: #008000; text-decoration-color: #008000; font-weight: bold\">)</span>\n",
       "</pre>\n"
      ],
      "text/plain": [
       "📊 \u001b[1;32mBest SARIMA order for Siemens AG: \u001b[0m\u001b[1;32m(\u001b[0m\u001b[1;32m0\u001b[0m\u001b[1;32m, \u001b[0m\u001b[1;32m1\u001b[0m\u001b[1;32m, \u001b[0m\u001b[1;32m0\u001b[0m\u001b[1;32m, \u001b[0m\u001b[1;32m0\u001b[0m\u001b[1;32m, \u001b[0m\u001b[1;32m0\u001b[0m\u001b[1;32m, \u001b[0m\u001b[1;32m1\u001b[0m\u001b[1;32m)\u001b[0m\n"
      ]
     },
     "metadata": {},
     "output_type": "display_data"
    },
    {
     "data": {
      "text/html": [
       "<pre style=\"white-space:pre;overflow-x:auto;line-height:normal;font-family:Menlo,'DejaVu Sans Mono',consolas,'Courier New',monospace\">🚀 <span style=\"color: #000080; text-decoration-color: #000080; font-weight: bold\">Processing Allianz SE...</span>\n",
       "</pre>\n"
      ],
      "text/plain": [
       "🚀 \u001b[1;34mProcessing Allianz SE\u001b[0m\u001b[1;34m...\u001b[0m\n"
      ]
     },
     "metadata": {},
     "output_type": "display_data"
    },
    {
     "data": {
      "text/html": [
       "<pre style=\"white-space:pre;overflow-x:auto;line-height:normal;font-family:Menlo,'DejaVu Sans Mono',consolas,'Courier New',monospace\">🔍 <span style=\"color: #008080; text-decoration-color: #008080; font-weight: bold\">Searching best SARIMA model... (</span><span style=\"color: #008080; text-decoration-color: #008080; font-weight: bold\">144</span><span style=\"color: #008080; text-decoration-color: #008080; font-weight: bold\"> combinations)</span>\n",
       "</pre>\n"
      ],
      "text/plain": [
       "🔍 \u001b[1;36mSearching best SARIMA model\u001b[0m\u001b[1;36m...\u001b[0m\u001b[1;36m \u001b[0m\u001b[1;36m(\u001b[0m\u001b[1;36m144\u001b[0m\u001b[1;36m combinations\u001b[0m\u001b[1;36m)\u001b[0m\n"
      ]
     },
     "metadata": {},
     "output_type": "display_data"
    },
    {
     "data": {
      "application/vnd.jupyter.widget-view+json": {
       "model_id": "cb5efe06c5f241509b0a59a254e45a90",
       "version_major": 2,
       "version_minor": 0
      },
      "text/plain": [
       "Output()"
      ]
     },
     "metadata": {},
     "output_type": "display_data"
    },
    {
     "data": {
      "text/html": [
       "<pre style=\"white-space:pre;overflow-x:auto;line-height:normal;font-family:Menlo,'DejaVu Sans Mono',consolas,'Courier New',monospace\"></pre>\n"
      ],
      "text/plain": []
     },
     "metadata": {},
     "output_type": "display_data"
    },
    {
     "data": {
      "text/html": [
       "<pre style=\"white-space:pre;overflow-x:auto;line-height:normal;font-family:Menlo,'DejaVu Sans Mono',consolas,'Courier New',monospace\">✅ <span style=\"color: #008000; text-decoration-color: #008000; font-weight: bold\">Best SARIMA order found:</span> <span style=\"font-weight: bold\">(</span><span style=\"color: #008080; text-decoration-color: #008080; font-weight: bold\">0</span>, <span style=\"color: #008080; text-decoration-color: #008080; font-weight: bold\">1</span>, <span style=\"color: #008080; text-decoration-color: #008080; font-weight: bold\">2</span>, <span style=\"color: #008080; text-decoration-color: #008080; font-weight: bold\">0</span>, <span style=\"color: #008080; text-decoration-color: #008080; font-weight: bold\">0</span>, <span style=\"color: #008080; text-decoration-color: #008080; font-weight: bold\">1</span><span style=\"font-weight: bold\">)</span> with MAE = <span style=\"color: #008080; text-decoration-color: #008080; font-weight: bold\">3116318448.62</span>\n",
       "</pre>\n"
      ],
      "text/plain": [
       "✅ \u001b[1;32mBest SARIMA order found:\u001b[0m \u001b[1m(\u001b[0m\u001b[1;36m0\u001b[0m, \u001b[1;36m1\u001b[0m, \u001b[1;36m2\u001b[0m, \u001b[1;36m0\u001b[0m, \u001b[1;36m0\u001b[0m, \u001b[1;36m1\u001b[0m\u001b[1m)\u001b[0m with MAE = \u001b[1;36m3116318448.62\u001b[0m\n"
      ]
     },
     "metadata": {},
     "output_type": "display_data"
    },
    {
     "data": {
      "text/html": [
       "<pre style=\"white-space:pre;overflow-x:auto;line-height:normal;font-family:Menlo,'DejaVu Sans Mono',consolas,'Courier New',monospace\">📊 <span style=\"color: #008000; text-decoration-color: #008000; font-weight: bold\">Best SARIMA order for Allianz SE: (</span><span style=\"color: #008000; text-decoration-color: #008000; font-weight: bold\">0</span><span style=\"color: #008000; text-decoration-color: #008000; font-weight: bold\">, </span><span style=\"color: #008000; text-decoration-color: #008000; font-weight: bold\">1</span><span style=\"color: #008000; text-decoration-color: #008000; font-weight: bold\">, </span><span style=\"color: #008000; text-decoration-color: #008000; font-weight: bold\">2</span><span style=\"color: #008000; text-decoration-color: #008000; font-weight: bold\">, </span><span style=\"color: #008000; text-decoration-color: #008000; font-weight: bold\">0</span><span style=\"color: #008000; text-decoration-color: #008000; font-weight: bold\">, </span><span style=\"color: #008000; text-decoration-color: #008000; font-weight: bold\">0</span><span style=\"color: #008000; text-decoration-color: #008000; font-weight: bold\">, </span><span style=\"color: #008000; text-decoration-color: #008000; font-weight: bold\">1</span><span style=\"color: #008000; text-decoration-color: #008000; font-weight: bold\">)</span>\n",
       "</pre>\n"
      ],
      "text/plain": [
       "📊 \u001b[1;32mBest SARIMA order for Allianz SE: \u001b[0m\u001b[1;32m(\u001b[0m\u001b[1;32m0\u001b[0m\u001b[1;32m, \u001b[0m\u001b[1;32m1\u001b[0m\u001b[1;32m, \u001b[0m\u001b[1;32m2\u001b[0m\u001b[1;32m, \u001b[0m\u001b[1;32m0\u001b[0m\u001b[1;32m, \u001b[0m\u001b[1;32m0\u001b[0m\u001b[1;32m, \u001b[0m\u001b[1;32m1\u001b[0m\u001b[1;32m)\u001b[0m\n"
      ]
     },
     "metadata": {},
     "output_type": "display_data"
    },
    {
     "data": {
      "text/html": [
       "<pre style=\"white-space:pre;overflow-x:auto;line-height:normal;font-family:Menlo,'DejaVu Sans Mono',consolas,'Courier New',monospace\">🚀 <span style=\"color: #000080; text-decoration-color: #000080; font-weight: bold\">Processing BMW AG...</span>\n",
       "</pre>\n"
      ],
      "text/plain": [
       "🚀 \u001b[1;34mProcessing BMW AG\u001b[0m\u001b[1;34m...\u001b[0m\n"
      ]
     },
     "metadata": {},
     "output_type": "display_data"
    },
    {
     "data": {
      "text/html": [
       "<pre style=\"white-space:pre;overflow-x:auto;line-height:normal;font-family:Menlo,'DejaVu Sans Mono',consolas,'Courier New',monospace\">🔍 <span style=\"color: #008080; text-decoration-color: #008080; font-weight: bold\">Searching best SARIMA model... (</span><span style=\"color: #008080; text-decoration-color: #008080; font-weight: bold\">144</span><span style=\"color: #008080; text-decoration-color: #008080; font-weight: bold\"> combinations)</span>\n",
       "</pre>\n"
      ],
      "text/plain": [
       "🔍 \u001b[1;36mSearching best SARIMA model\u001b[0m\u001b[1;36m...\u001b[0m\u001b[1;36m \u001b[0m\u001b[1;36m(\u001b[0m\u001b[1;36m144\u001b[0m\u001b[1;36m combinations\u001b[0m\u001b[1;36m)\u001b[0m\n"
      ]
     },
     "metadata": {},
     "output_type": "display_data"
    },
    {
     "data": {
      "application/vnd.jupyter.widget-view+json": {
       "model_id": "651cc8991afe40449b8ba6a883aa0747",
       "version_major": 2,
       "version_minor": 0
      },
      "text/plain": [
       "Output()"
      ]
     },
     "metadata": {},
     "output_type": "display_data"
    },
    {
     "data": {
      "text/html": [
       "<pre style=\"white-space:pre;overflow-x:auto;line-height:normal;font-family:Menlo,'DejaVu Sans Mono',consolas,'Courier New',monospace\"></pre>\n"
      ],
      "text/plain": []
     },
     "metadata": {},
     "output_type": "display_data"
    },
    {
     "data": {
      "text/html": [
       "<pre style=\"white-space:pre;overflow-x:auto;line-height:normal;font-family:Menlo,'DejaVu Sans Mono',consolas,'Courier New',monospace\">✅ <span style=\"color: #008000; text-decoration-color: #008000; font-weight: bold\">Best SARIMA order found:</span> <span style=\"font-weight: bold\">(</span><span style=\"color: #008080; text-decoration-color: #008080; font-weight: bold\">2</span>, <span style=\"color: #008080; text-decoration-color: #008080; font-weight: bold\">1</span>, <span style=\"color: #008080; text-decoration-color: #008080; font-weight: bold\">1</span>, <span style=\"color: #008080; text-decoration-color: #008080; font-weight: bold\">1</span>, <span style=\"color: #008080; text-decoration-color: #008080; font-weight: bold\">0</span>, <span style=\"color: #008080; text-decoration-color: #008080; font-weight: bold\">0</span><span style=\"font-weight: bold\">)</span> with MAE = <span style=\"color: #008080; text-decoration-color: #008080; font-weight: bold\">3927821316.65</span>\n",
       "</pre>\n"
      ],
      "text/plain": [
       "✅ \u001b[1;32mBest SARIMA order found:\u001b[0m \u001b[1m(\u001b[0m\u001b[1;36m2\u001b[0m, \u001b[1;36m1\u001b[0m, \u001b[1;36m1\u001b[0m, \u001b[1;36m1\u001b[0m, \u001b[1;36m0\u001b[0m, \u001b[1;36m0\u001b[0m\u001b[1m)\u001b[0m with MAE = \u001b[1;36m3927821316.65\u001b[0m\n"
      ]
     },
     "metadata": {},
     "output_type": "display_data"
    },
    {
     "data": {
      "text/html": [
       "<pre style=\"white-space:pre;overflow-x:auto;line-height:normal;font-family:Menlo,'DejaVu Sans Mono',consolas,'Courier New',monospace\">📊 <span style=\"color: #008000; text-decoration-color: #008000; font-weight: bold\">Best SARIMA order for BMW AG: (</span><span style=\"color: #008000; text-decoration-color: #008000; font-weight: bold\">2</span><span style=\"color: #008000; text-decoration-color: #008000; font-weight: bold\">, </span><span style=\"color: #008000; text-decoration-color: #008000; font-weight: bold\">1</span><span style=\"color: #008000; text-decoration-color: #008000; font-weight: bold\">, </span><span style=\"color: #008000; text-decoration-color: #008000; font-weight: bold\">1</span><span style=\"color: #008000; text-decoration-color: #008000; font-weight: bold\">, </span><span style=\"color: #008000; text-decoration-color: #008000; font-weight: bold\">1</span><span style=\"color: #008000; text-decoration-color: #008000; font-weight: bold\">, </span><span style=\"color: #008000; text-decoration-color: #008000; font-weight: bold\">0</span><span style=\"color: #008000; text-decoration-color: #008000; font-weight: bold\">, </span><span style=\"color: #008000; text-decoration-color: #008000; font-weight: bold\">0</span><span style=\"color: #008000; text-decoration-color: #008000; font-weight: bold\">)</span>\n",
       "</pre>\n"
      ],
      "text/plain": [
       "📊 \u001b[1;32mBest SARIMA order for BMW AG: \u001b[0m\u001b[1;32m(\u001b[0m\u001b[1;32m2\u001b[0m\u001b[1;32m, \u001b[0m\u001b[1;32m1\u001b[0m\u001b[1;32m, \u001b[0m\u001b[1;32m1\u001b[0m\u001b[1;32m, \u001b[0m\u001b[1;32m1\u001b[0m\u001b[1;32m, \u001b[0m\u001b[1;32m0\u001b[0m\u001b[1;32m, \u001b[0m\u001b[1;32m0\u001b[0m\u001b[1;32m)\u001b[0m\n"
      ]
     },
     "metadata": {},
     "output_type": "display_data"
    },
    {
     "data": {
      "text/html": [
       "<pre style=\"white-space:pre;overflow-x:auto;line-height:normal;font-family:Menlo,'DejaVu Sans Mono',consolas,'Courier New',monospace\">🚀 <span style=\"color: #000080; text-decoration-color: #000080; font-weight: bold\">Processing BASF SE...</span>\n",
       "</pre>\n"
      ],
      "text/plain": [
       "🚀 \u001b[1;34mProcessing BASF SE\u001b[0m\u001b[1;34m...\u001b[0m\n"
      ]
     },
     "metadata": {},
     "output_type": "display_data"
    },
    {
     "data": {
      "text/html": [
       "<pre style=\"white-space:pre;overflow-x:auto;line-height:normal;font-family:Menlo,'DejaVu Sans Mono',consolas,'Courier New',monospace\">🔍 <span style=\"color: #008080; text-decoration-color: #008080; font-weight: bold\">Searching best SARIMA model... (</span><span style=\"color: #008080; text-decoration-color: #008080; font-weight: bold\">144</span><span style=\"color: #008080; text-decoration-color: #008080; font-weight: bold\"> combinations)</span>\n",
       "</pre>\n"
      ],
      "text/plain": [
       "🔍 \u001b[1;36mSearching best SARIMA model\u001b[0m\u001b[1;36m...\u001b[0m\u001b[1;36m \u001b[0m\u001b[1;36m(\u001b[0m\u001b[1;36m144\u001b[0m\u001b[1;36m combinations\u001b[0m\u001b[1;36m)\u001b[0m\n"
      ]
     },
     "metadata": {},
     "output_type": "display_data"
    },
    {
     "data": {
      "application/vnd.jupyter.widget-view+json": {
       "model_id": "ed3776471d644d2690ccb2fc4afa1c87",
       "version_major": 2,
       "version_minor": 0
      },
      "text/plain": [
       "Output()"
      ]
     },
     "metadata": {},
     "output_type": "display_data"
    },
    {
     "data": {
      "text/html": [
       "<pre style=\"white-space:pre;overflow-x:auto;line-height:normal;font-family:Menlo,'DejaVu Sans Mono',consolas,'Courier New',monospace\"></pre>\n"
      ],
      "text/plain": []
     },
     "metadata": {},
     "output_type": "display_data"
    },
    {
     "data": {
      "text/html": [
       "<pre style=\"white-space:pre;overflow-x:auto;line-height:normal;font-family:Menlo,'DejaVu Sans Mono',consolas,'Courier New',monospace\">✅ <span style=\"color: #008000; text-decoration-color: #008000; font-weight: bold\">Best SARIMA order found:</span> <span style=\"font-weight: bold\">(</span><span style=\"color: #008080; text-decoration-color: #008080; font-weight: bold\">0</span>, <span style=\"color: #008080; text-decoration-color: #008080; font-weight: bold\">1</span>, <span style=\"color: #008080; text-decoration-color: #008080; font-weight: bold\">2</span>, <span style=\"color: #008080; text-decoration-color: #008080; font-weight: bold\">1</span>, <span style=\"color: #008080; text-decoration-color: #008080; font-weight: bold\">0</span>, <span style=\"color: #008080; text-decoration-color: #008080; font-weight: bold\">0</span><span style=\"font-weight: bold\">)</span> with MAE = <span style=\"color: #008080; text-decoration-color: #008080; font-weight: bold\">3186751477.35</span>\n",
       "</pre>\n"
      ],
      "text/plain": [
       "✅ \u001b[1;32mBest SARIMA order found:\u001b[0m \u001b[1m(\u001b[0m\u001b[1;36m0\u001b[0m, \u001b[1;36m1\u001b[0m, \u001b[1;36m2\u001b[0m, \u001b[1;36m1\u001b[0m, \u001b[1;36m0\u001b[0m, \u001b[1;36m0\u001b[0m\u001b[1m)\u001b[0m with MAE = \u001b[1;36m3186751477.35\u001b[0m\n"
      ]
     },
     "metadata": {},
     "output_type": "display_data"
    },
    {
     "data": {
      "text/html": [
       "<pre style=\"white-space:pre;overflow-x:auto;line-height:normal;font-family:Menlo,'DejaVu Sans Mono',consolas,'Courier New',monospace\">📊 <span style=\"color: #008000; text-decoration-color: #008000; font-weight: bold\">Best SARIMA order for BASF SE: (</span><span style=\"color: #008000; text-decoration-color: #008000; font-weight: bold\">0</span><span style=\"color: #008000; text-decoration-color: #008000; font-weight: bold\">, </span><span style=\"color: #008000; text-decoration-color: #008000; font-weight: bold\">1</span><span style=\"color: #008000; text-decoration-color: #008000; font-weight: bold\">, </span><span style=\"color: #008000; text-decoration-color: #008000; font-weight: bold\">2</span><span style=\"color: #008000; text-decoration-color: #008000; font-weight: bold\">, </span><span style=\"color: #008000; text-decoration-color: #008000; font-weight: bold\">1</span><span style=\"color: #008000; text-decoration-color: #008000; font-weight: bold\">, </span><span style=\"color: #008000; text-decoration-color: #008000; font-weight: bold\">0</span><span style=\"color: #008000; text-decoration-color: #008000; font-weight: bold\">, </span><span style=\"color: #008000; text-decoration-color: #008000; font-weight: bold\">0</span><span style=\"color: #008000; text-decoration-color: #008000; font-weight: bold\">)</span>\n",
       "</pre>\n"
      ],
      "text/plain": [
       "📊 \u001b[1;32mBest SARIMA order for BASF SE: \u001b[0m\u001b[1;32m(\u001b[0m\u001b[1;32m0\u001b[0m\u001b[1;32m, \u001b[0m\u001b[1;32m1\u001b[0m\u001b[1;32m, \u001b[0m\u001b[1;32m2\u001b[0m\u001b[1;32m, \u001b[0m\u001b[1;32m1\u001b[0m\u001b[1;32m, \u001b[0m\u001b[1;32m0\u001b[0m\u001b[1;32m, \u001b[0m\u001b[1;32m0\u001b[0m\u001b[1;32m)\u001b[0m\n"
      ]
     },
     "metadata": {},
     "output_type": "display_data"
    },
    {
     "data": {
      "text/html": [
       "<pre style=\"white-space:pre;overflow-x:auto;line-height:normal;font-family:Menlo,'DejaVu Sans Mono',consolas,'Courier New',monospace\">🚀 <span style=\"color: #000080; text-decoration-color: #000080; font-weight: bold\">Processing Deutsche Telekom AG...</span>\n",
       "</pre>\n"
      ],
      "text/plain": [
       "🚀 \u001b[1;34mProcessing Deutsche Telekom AG\u001b[0m\u001b[1;34m...\u001b[0m\n"
      ]
     },
     "metadata": {},
     "output_type": "display_data"
    },
    {
     "data": {
      "text/html": [
       "<pre style=\"white-space:pre;overflow-x:auto;line-height:normal;font-family:Menlo,'DejaVu Sans Mono',consolas,'Courier New',monospace\">🔍 <span style=\"color: #008080; text-decoration-color: #008080; font-weight: bold\">Searching best SARIMA model... (</span><span style=\"color: #008080; text-decoration-color: #008080; font-weight: bold\">144</span><span style=\"color: #008080; text-decoration-color: #008080; font-weight: bold\"> combinations)</span>\n",
       "</pre>\n"
      ],
      "text/plain": [
       "🔍 \u001b[1;36mSearching best SARIMA model\u001b[0m\u001b[1;36m...\u001b[0m\u001b[1;36m \u001b[0m\u001b[1;36m(\u001b[0m\u001b[1;36m144\u001b[0m\u001b[1;36m combinations\u001b[0m\u001b[1;36m)\u001b[0m\n"
      ]
     },
     "metadata": {},
     "output_type": "display_data"
    },
    {
     "data": {
      "application/vnd.jupyter.widget-view+json": {
       "model_id": "37ff962481f341d7b7d23edf17c5f044",
       "version_major": 2,
       "version_minor": 0
      },
      "text/plain": [
       "Output()"
      ]
     },
     "metadata": {},
     "output_type": "display_data"
    },
    {
     "data": {
      "text/html": [
       "<pre style=\"white-space:pre;overflow-x:auto;line-height:normal;font-family:Menlo,'DejaVu Sans Mono',consolas,'Courier New',monospace\"></pre>\n"
      ],
      "text/plain": []
     },
     "metadata": {},
     "output_type": "display_data"
    },
    {
     "data": {
      "text/html": [
       "<pre style=\"white-space:pre;overflow-x:auto;line-height:normal;font-family:Menlo,'DejaVu Sans Mono',consolas,'Courier New',monospace\">✅ <span style=\"color: #008000; text-decoration-color: #008000; font-weight: bold\">Best SARIMA order found:</span> <span style=\"font-weight: bold\">(</span><span style=\"color: #008080; text-decoration-color: #008080; font-weight: bold\">2</span>, <span style=\"color: #008080; text-decoration-color: #008080; font-weight: bold\">1</span>, <span style=\"color: #008080; text-decoration-color: #008080; font-weight: bold\">1</span>, <span style=\"color: #008080; text-decoration-color: #008080; font-weight: bold\">1</span>, <span style=\"color: #008080; text-decoration-color: #008080; font-weight: bold\">0</span>, <span style=\"color: #008080; text-decoration-color: #008080; font-weight: bold\">0</span><span style=\"font-weight: bold\">)</span> with MAE = <span style=\"color: #008080; text-decoration-color: #008080; font-weight: bold\">3387525924.91</span>\n",
       "</pre>\n"
      ],
      "text/plain": [
       "✅ \u001b[1;32mBest SARIMA order found:\u001b[0m \u001b[1m(\u001b[0m\u001b[1;36m2\u001b[0m, \u001b[1;36m1\u001b[0m, \u001b[1;36m1\u001b[0m, \u001b[1;36m1\u001b[0m, \u001b[1;36m0\u001b[0m, \u001b[1;36m0\u001b[0m\u001b[1m)\u001b[0m with MAE = \u001b[1;36m3387525924.91\u001b[0m\n"
      ]
     },
     "metadata": {},
     "output_type": "display_data"
    },
    {
     "data": {
      "text/html": [
       "<pre style=\"white-space:pre;overflow-x:auto;line-height:normal;font-family:Menlo,'DejaVu Sans Mono',consolas,'Courier New',monospace\">📊 <span style=\"color: #008000; text-decoration-color: #008000; font-weight: bold\">Best SARIMA order for Deutsche Telekom AG: (</span><span style=\"color: #008000; text-decoration-color: #008000; font-weight: bold\">2</span><span style=\"color: #008000; text-decoration-color: #008000; font-weight: bold\">, </span><span style=\"color: #008000; text-decoration-color: #008000; font-weight: bold\">1</span><span style=\"color: #008000; text-decoration-color: #008000; font-weight: bold\">, </span><span style=\"color: #008000; text-decoration-color: #008000; font-weight: bold\">1</span><span style=\"color: #008000; text-decoration-color: #008000; font-weight: bold\">, </span><span style=\"color: #008000; text-decoration-color: #008000; font-weight: bold\">1</span><span style=\"color: #008000; text-decoration-color: #008000; font-weight: bold\">, </span><span style=\"color: #008000; text-decoration-color: #008000; font-weight: bold\">0</span><span style=\"color: #008000; text-decoration-color: #008000; font-weight: bold\">, </span><span style=\"color: #008000; text-decoration-color: #008000; font-weight: bold\">0</span><span style=\"color: #008000; text-decoration-color: #008000; font-weight: bold\">)</span>\n",
       "</pre>\n"
      ],
      "text/plain": [
       "📊 \u001b[1;32mBest SARIMA order for Deutsche Telekom AG: \u001b[0m\u001b[1;32m(\u001b[0m\u001b[1;32m2\u001b[0m\u001b[1;32m, \u001b[0m\u001b[1;32m1\u001b[0m\u001b[1;32m, \u001b[0m\u001b[1;32m1\u001b[0m\u001b[1;32m, \u001b[0m\u001b[1;32m1\u001b[0m\u001b[1;32m, \u001b[0m\u001b[1;32m0\u001b[0m\u001b[1;32m, \u001b[0m\u001b[1;32m0\u001b[0m\u001b[1;32m)\u001b[0m\n"
      ]
     },
     "metadata": {},
     "output_type": "display_data"
    },
    {
     "data": {
      "text/html": [
       "<pre style=\"white-space:pre;overflow-x:auto;line-height:normal;font-family:Menlo,'DejaVu Sans Mono',consolas,'Courier New',monospace\">🚀 <span style=\"color: #000080; text-decoration-color: #000080; font-weight: bold\">Processing Daimler AG...</span>\n",
       "</pre>\n"
      ],
      "text/plain": [
       "🚀 \u001b[1;34mProcessing Daimler AG\u001b[0m\u001b[1;34m...\u001b[0m\n"
      ]
     },
     "metadata": {},
     "output_type": "display_data"
    },
    {
     "data": {
      "text/html": [
       "<pre style=\"white-space:pre;overflow-x:auto;line-height:normal;font-family:Menlo,'DejaVu Sans Mono',consolas,'Courier New',monospace\">🔍 <span style=\"color: #008080; text-decoration-color: #008080; font-weight: bold\">Searching best SARIMA model... (</span><span style=\"color: #008080; text-decoration-color: #008080; font-weight: bold\">144</span><span style=\"color: #008080; text-decoration-color: #008080; font-weight: bold\"> combinations)</span>\n",
       "</pre>\n"
      ],
      "text/plain": [
       "🔍 \u001b[1;36mSearching best SARIMA model\u001b[0m\u001b[1;36m...\u001b[0m\u001b[1;36m \u001b[0m\u001b[1;36m(\u001b[0m\u001b[1;36m144\u001b[0m\u001b[1;36m combinations\u001b[0m\u001b[1;36m)\u001b[0m\n"
      ]
     },
     "metadata": {},
     "output_type": "display_data"
    },
    {
     "data": {
      "application/vnd.jupyter.widget-view+json": {
       "model_id": "ecf074c3b8064ce3be060c07ebc157c4",
       "version_major": 2,
       "version_minor": 0
      },
      "text/plain": [
       "Output()"
      ]
     },
     "metadata": {},
     "output_type": "display_data"
    },
    {
     "data": {
      "text/html": [
       "<pre style=\"white-space:pre;overflow-x:auto;line-height:normal;font-family:Menlo,'DejaVu Sans Mono',consolas,'Courier New',monospace\"></pre>\n"
      ],
      "text/plain": []
     },
     "metadata": {},
     "output_type": "display_data"
    },
    {
     "data": {
      "text/html": [
       "<pre style=\"white-space:pre;overflow-x:auto;line-height:normal;font-family:Menlo,'DejaVu Sans Mono',consolas,'Courier New',monospace\">✅ <span style=\"color: #008000; text-decoration-color: #008000; font-weight: bold\">Best SARIMA order found:</span> <span style=\"font-weight: bold\">(</span><span style=\"color: #008080; text-decoration-color: #008080; font-weight: bold\">2</span>, <span style=\"color: #008080; text-decoration-color: #008080; font-weight: bold\">0</span>, <span style=\"color: #008080; text-decoration-color: #008080; font-weight: bold\">2</span>, <span style=\"color: #008080; text-decoration-color: #008080; font-weight: bold\">0</span>, <span style=\"color: #008080; text-decoration-color: #008080; font-weight: bold\">1</span>, <span style=\"color: #008080; text-decoration-color: #008080; font-weight: bold\">1</span><span style=\"font-weight: bold\">)</span> with MAE = <span style=\"color: #008080; text-decoration-color: #008080; font-weight: bold\">3536048815.70</span>\n",
       "</pre>\n"
      ],
      "text/plain": [
       "✅ \u001b[1;32mBest SARIMA order found:\u001b[0m \u001b[1m(\u001b[0m\u001b[1;36m2\u001b[0m, \u001b[1;36m0\u001b[0m, \u001b[1;36m2\u001b[0m, \u001b[1;36m0\u001b[0m, \u001b[1;36m1\u001b[0m, \u001b[1;36m1\u001b[0m\u001b[1m)\u001b[0m with MAE = \u001b[1;36m3536048815.70\u001b[0m\n"
      ]
     },
     "metadata": {},
     "output_type": "display_data"
    },
    {
     "data": {
      "text/html": [
       "<pre style=\"white-space:pre;overflow-x:auto;line-height:normal;font-family:Menlo,'DejaVu Sans Mono',consolas,'Courier New',monospace\">📊 <span style=\"color: #008000; text-decoration-color: #008000; font-weight: bold\">Best SARIMA order for Daimler AG: (</span><span style=\"color: #008000; text-decoration-color: #008000; font-weight: bold\">2</span><span style=\"color: #008000; text-decoration-color: #008000; font-weight: bold\">, </span><span style=\"color: #008000; text-decoration-color: #008000; font-weight: bold\">0</span><span style=\"color: #008000; text-decoration-color: #008000; font-weight: bold\">, </span><span style=\"color: #008000; text-decoration-color: #008000; font-weight: bold\">2</span><span style=\"color: #008000; text-decoration-color: #008000; font-weight: bold\">, </span><span style=\"color: #008000; text-decoration-color: #008000; font-weight: bold\">0</span><span style=\"color: #008000; text-decoration-color: #008000; font-weight: bold\">, </span><span style=\"color: #008000; text-decoration-color: #008000; font-weight: bold\">1</span><span style=\"color: #008000; text-decoration-color: #008000; font-weight: bold\">, </span><span style=\"color: #008000; text-decoration-color: #008000; font-weight: bold\">1</span><span style=\"color: #008000; text-decoration-color: #008000; font-weight: bold\">)</span>\n",
       "</pre>\n"
      ],
      "text/plain": [
       "📊 \u001b[1;32mBest SARIMA order for Daimler AG: \u001b[0m\u001b[1;32m(\u001b[0m\u001b[1;32m2\u001b[0m\u001b[1;32m, \u001b[0m\u001b[1;32m0\u001b[0m\u001b[1;32m, \u001b[0m\u001b[1;32m2\u001b[0m\u001b[1;32m, \u001b[0m\u001b[1;32m0\u001b[0m\u001b[1;32m, \u001b[0m\u001b[1;32m1\u001b[0m\u001b[1;32m, \u001b[0m\u001b[1;32m1\u001b[0m\u001b[1;32m)\u001b[0m\n"
      ]
     },
     "metadata": {},
     "output_type": "display_data"
    },
    {
     "data": {
      "text/html": [
       "<pre style=\"white-space:pre;overflow-x:auto;line-height:normal;font-family:Menlo,'DejaVu Sans Mono',consolas,'Courier New',monospace\">🚀 <span style=\"color: #000080; text-decoration-color: #000080; font-weight: bold\">Processing SAP SE...</span>\n",
       "</pre>\n"
      ],
      "text/plain": [
       "🚀 \u001b[1;34mProcessing SAP SE\u001b[0m\u001b[1;34m...\u001b[0m\n"
      ]
     },
     "metadata": {},
     "output_type": "display_data"
    },
    {
     "data": {
      "text/html": [
       "<pre style=\"white-space:pre;overflow-x:auto;line-height:normal;font-family:Menlo,'DejaVu Sans Mono',consolas,'Courier New',monospace\">🔍 <span style=\"color: #008080; text-decoration-color: #008080; font-weight: bold\">Searching best SARIMA model... (</span><span style=\"color: #008080; text-decoration-color: #008080; font-weight: bold\">144</span><span style=\"color: #008080; text-decoration-color: #008080; font-weight: bold\"> combinations)</span>\n",
       "</pre>\n"
      ],
      "text/plain": [
       "🔍 \u001b[1;36mSearching best SARIMA model\u001b[0m\u001b[1;36m...\u001b[0m\u001b[1;36m \u001b[0m\u001b[1;36m(\u001b[0m\u001b[1;36m144\u001b[0m\u001b[1;36m combinations\u001b[0m\u001b[1;36m)\u001b[0m\n"
      ]
     },
     "metadata": {},
     "output_type": "display_data"
    },
    {
     "data": {
      "application/vnd.jupyter.widget-view+json": {
       "model_id": "9a1be6f8eb7543ecadfd275284186e28",
       "version_major": 2,
       "version_minor": 0
      },
      "text/plain": [
       "Output()"
      ]
     },
     "metadata": {},
     "output_type": "display_data"
    },
    {
     "data": {
      "text/html": [
       "<pre style=\"white-space:pre;overflow-x:auto;line-height:normal;font-family:Menlo,'DejaVu Sans Mono',consolas,'Courier New',monospace\"></pre>\n"
      ],
      "text/plain": []
     },
     "metadata": {},
     "output_type": "display_data"
    },
    {
     "data": {
      "text/html": [
       "<pre style=\"white-space:pre;overflow-x:auto;line-height:normal;font-family:Menlo,'DejaVu Sans Mono',consolas,'Courier New',monospace\">✅ <span style=\"color: #008000; text-decoration-color: #008000; font-weight: bold\">Best SARIMA order found:</span> <span style=\"font-weight: bold\">(</span><span style=\"color: #008080; text-decoration-color: #008080; font-weight: bold\">0</span>, <span style=\"color: #008080; text-decoration-color: #008080; font-weight: bold\">1</span>, <span style=\"color: #008080; text-decoration-color: #008080; font-weight: bold\">2</span>, <span style=\"color: #008080; text-decoration-color: #008080; font-weight: bold\">1</span>, <span style=\"color: #008080; text-decoration-color: #008080; font-weight: bold\">0</span>, <span style=\"color: #008080; text-decoration-color: #008080; font-weight: bold\">0</span><span style=\"font-weight: bold\">)</span> with MAE = <span style=\"color: #008080; text-decoration-color: #008080; font-weight: bold\">4058082892.89</span>\n",
       "</pre>\n"
      ],
      "text/plain": [
       "✅ \u001b[1;32mBest SARIMA order found:\u001b[0m \u001b[1m(\u001b[0m\u001b[1;36m0\u001b[0m, \u001b[1;36m1\u001b[0m, \u001b[1;36m2\u001b[0m, \u001b[1;36m1\u001b[0m, \u001b[1;36m0\u001b[0m, \u001b[1;36m0\u001b[0m\u001b[1m)\u001b[0m with MAE = \u001b[1;36m4058082892.89\u001b[0m\n"
      ]
     },
     "metadata": {},
     "output_type": "display_data"
    },
    {
     "data": {
      "text/html": [
       "<pre style=\"white-space:pre;overflow-x:auto;line-height:normal;font-family:Menlo,'DejaVu Sans Mono',consolas,'Courier New',monospace\">📊 <span style=\"color: #008000; text-decoration-color: #008000; font-weight: bold\">Best SARIMA order for SAP SE: (</span><span style=\"color: #008000; text-decoration-color: #008000; font-weight: bold\">0</span><span style=\"color: #008000; text-decoration-color: #008000; font-weight: bold\">, </span><span style=\"color: #008000; text-decoration-color: #008000; font-weight: bold\">1</span><span style=\"color: #008000; text-decoration-color: #008000; font-weight: bold\">, </span><span style=\"color: #008000; text-decoration-color: #008000; font-weight: bold\">2</span><span style=\"color: #008000; text-decoration-color: #008000; font-weight: bold\">, </span><span style=\"color: #008000; text-decoration-color: #008000; font-weight: bold\">1</span><span style=\"color: #008000; text-decoration-color: #008000; font-weight: bold\">, </span><span style=\"color: #008000; text-decoration-color: #008000; font-weight: bold\">0</span><span style=\"color: #008000; text-decoration-color: #008000; font-weight: bold\">, </span><span style=\"color: #008000; text-decoration-color: #008000; font-weight: bold\">0</span><span style=\"color: #008000; text-decoration-color: #008000; font-weight: bold\">)</span>\n",
       "</pre>\n"
      ],
      "text/plain": [
       "📊 \u001b[1;32mBest SARIMA order for SAP SE: \u001b[0m\u001b[1;32m(\u001b[0m\u001b[1;32m0\u001b[0m\u001b[1;32m, \u001b[0m\u001b[1;32m1\u001b[0m\u001b[1;32m, \u001b[0m\u001b[1;32m2\u001b[0m\u001b[1;32m, \u001b[0m\u001b[1;32m1\u001b[0m\u001b[1;32m, \u001b[0m\u001b[1;32m0\u001b[0m\u001b[1;32m, \u001b[0m\u001b[1;32m0\u001b[0m\u001b[1;32m)\u001b[0m\n"
      ]
     },
     "metadata": {},
     "output_type": "display_data"
    },
    {
     "data": {
      "text/html": [
       "<pre style=\"white-space:pre;overflow-x:auto;line-height:normal;font-family:Menlo,'DejaVu Sans Mono',consolas,'Courier New',monospace\">🚀 <span style=\"color: #000080; text-decoration-color: #000080; font-weight: bold\">Processing Bayer AG...</span>\n",
       "</pre>\n"
      ],
      "text/plain": [
       "🚀 \u001b[1;34mProcessing Bayer AG\u001b[0m\u001b[1;34m...\u001b[0m\n"
      ]
     },
     "metadata": {},
     "output_type": "display_data"
    },
    {
     "data": {
      "text/html": [
       "<pre style=\"white-space:pre;overflow-x:auto;line-height:normal;font-family:Menlo,'DejaVu Sans Mono',consolas,'Courier New',monospace\">🔍 <span style=\"color: #008080; text-decoration-color: #008080; font-weight: bold\">Searching best SARIMA model... (</span><span style=\"color: #008080; text-decoration-color: #008080; font-weight: bold\">144</span><span style=\"color: #008080; text-decoration-color: #008080; font-weight: bold\"> combinations)</span>\n",
       "</pre>\n"
      ],
      "text/plain": [
       "🔍 \u001b[1;36mSearching best SARIMA model\u001b[0m\u001b[1;36m...\u001b[0m\u001b[1;36m \u001b[0m\u001b[1;36m(\u001b[0m\u001b[1;36m144\u001b[0m\u001b[1;36m combinations\u001b[0m\u001b[1;36m)\u001b[0m\n"
      ]
     },
     "metadata": {},
     "output_type": "display_data"
    },
    {
     "data": {
      "application/vnd.jupyter.widget-view+json": {
       "model_id": "ea781864236349ce9ebd9f440fa8154d",
       "version_major": 2,
       "version_minor": 0
      },
      "text/plain": [
       "Output()"
      ]
     },
     "metadata": {},
     "output_type": "display_data"
    },
    {
     "data": {
      "text/html": [
       "<pre style=\"white-space:pre;overflow-x:auto;line-height:normal;font-family:Menlo,'DejaVu Sans Mono',consolas,'Courier New',monospace\"></pre>\n"
      ],
      "text/plain": []
     },
     "metadata": {},
     "output_type": "display_data"
    },
    {
     "data": {
      "text/html": [
       "<pre style=\"white-space:pre;overflow-x:auto;line-height:normal;font-family:Menlo,'DejaVu Sans Mono',consolas,'Courier New',monospace\">✅ <span style=\"color: #008000; text-decoration-color: #008000; font-weight: bold\">Best SARIMA order found:</span> <span style=\"font-weight: bold\">(</span><span style=\"color: #008080; text-decoration-color: #008080; font-weight: bold\">1</span>, <span style=\"color: #008080; text-decoration-color: #008080; font-weight: bold\">1</span>, <span style=\"color: #008080; text-decoration-color: #008080; font-weight: bold\">1</span>, <span style=\"color: #008080; text-decoration-color: #008080; font-weight: bold\">0</span>, <span style=\"color: #008080; text-decoration-color: #008080; font-weight: bold\">0</span>, <span style=\"color: #008080; text-decoration-color: #008080; font-weight: bold\">0</span><span style=\"font-weight: bold\">)</span> with MAE = <span style=\"color: #008080; text-decoration-color: #008080; font-weight: bold\">2839841256.54</span>\n",
       "</pre>\n"
      ],
      "text/plain": [
       "✅ \u001b[1;32mBest SARIMA order found:\u001b[0m \u001b[1m(\u001b[0m\u001b[1;36m1\u001b[0m, \u001b[1;36m1\u001b[0m, \u001b[1;36m1\u001b[0m, \u001b[1;36m0\u001b[0m, \u001b[1;36m0\u001b[0m, \u001b[1;36m0\u001b[0m\u001b[1m)\u001b[0m with MAE = \u001b[1;36m2839841256.54\u001b[0m\n"
      ]
     },
     "metadata": {},
     "output_type": "display_data"
    },
    {
     "data": {
      "text/html": [
       "<pre style=\"white-space:pre;overflow-x:auto;line-height:normal;font-family:Menlo,'DejaVu Sans Mono',consolas,'Courier New',monospace\">📊 <span style=\"color: #008000; text-decoration-color: #008000; font-weight: bold\">Best SARIMA order for Bayer AG: (</span><span style=\"color: #008000; text-decoration-color: #008000; font-weight: bold\">1</span><span style=\"color: #008000; text-decoration-color: #008000; font-weight: bold\">, </span><span style=\"color: #008000; text-decoration-color: #008000; font-weight: bold\">1</span><span style=\"color: #008000; text-decoration-color: #008000; font-weight: bold\">, </span><span style=\"color: #008000; text-decoration-color: #008000; font-weight: bold\">1</span><span style=\"color: #008000; text-decoration-color: #008000; font-weight: bold\">, </span><span style=\"color: #008000; text-decoration-color: #008000; font-weight: bold\">0</span><span style=\"color: #008000; text-decoration-color: #008000; font-weight: bold\">, </span><span style=\"color: #008000; text-decoration-color: #008000; font-weight: bold\">0</span><span style=\"color: #008000; text-decoration-color: #008000; font-weight: bold\">, </span><span style=\"color: #008000; text-decoration-color: #008000; font-weight: bold\">0</span><span style=\"color: #008000; text-decoration-color: #008000; font-weight: bold\">)</span>\n",
       "</pre>\n"
      ],
      "text/plain": [
       "📊 \u001b[1;32mBest SARIMA order for Bayer AG: \u001b[0m\u001b[1;32m(\u001b[0m\u001b[1;32m1\u001b[0m\u001b[1;32m, \u001b[0m\u001b[1;32m1\u001b[0m\u001b[1;32m, \u001b[0m\u001b[1;32m1\u001b[0m\u001b[1;32m, \u001b[0m\u001b[1;32m0\u001b[0m\u001b[1;32m, \u001b[0m\u001b[1;32m0\u001b[0m\u001b[1;32m, \u001b[0m\u001b[1;32m0\u001b[0m\u001b[1;32m)\u001b[0m\n"
      ]
     },
     "metadata": {},
     "output_type": "display_data"
    },
    {
     "data": {
      "text/html": [
       "<pre style=\"white-space:pre;overflow-x:auto;line-height:normal;font-family:Menlo,'DejaVu Sans Mono',consolas,'Courier New',monospace\">🚀 <span style=\"color: #000080; text-decoration-color: #000080; font-weight: bold\">Processing Deutsche Bank AG...</span>\n",
       "</pre>\n"
      ],
      "text/plain": [
       "🚀 \u001b[1;34mProcessing Deutsche Bank AG\u001b[0m\u001b[1;34m...\u001b[0m\n"
      ]
     },
     "metadata": {},
     "output_type": "display_data"
    },
    {
     "data": {
      "text/html": [
       "<pre style=\"white-space:pre;overflow-x:auto;line-height:normal;font-family:Menlo,'DejaVu Sans Mono',consolas,'Courier New',monospace\">🔍 <span style=\"color: #008080; text-decoration-color: #008080; font-weight: bold\">Searching best SARIMA model... (</span><span style=\"color: #008080; text-decoration-color: #008080; font-weight: bold\">144</span><span style=\"color: #008080; text-decoration-color: #008080; font-weight: bold\"> combinations)</span>\n",
       "</pre>\n"
      ],
      "text/plain": [
       "🔍 \u001b[1;36mSearching best SARIMA model\u001b[0m\u001b[1;36m...\u001b[0m\u001b[1;36m \u001b[0m\u001b[1;36m(\u001b[0m\u001b[1;36m144\u001b[0m\u001b[1;36m combinations\u001b[0m\u001b[1;36m)\u001b[0m\n"
      ]
     },
     "metadata": {},
     "output_type": "display_data"
    },
    {
     "data": {
      "application/vnd.jupyter.widget-view+json": {
       "model_id": "cb0a71f3db064b23ae264047a4adcaf1",
       "version_major": 2,
       "version_minor": 0
      },
      "text/plain": [
       "Output()"
      ]
     },
     "metadata": {},
     "output_type": "display_data"
    },
    {
     "data": {
      "text/html": [
       "<pre style=\"white-space:pre;overflow-x:auto;line-height:normal;font-family:Menlo,'DejaVu Sans Mono',consolas,'Courier New',monospace\"></pre>\n"
      ],
      "text/plain": []
     },
     "metadata": {},
     "output_type": "display_data"
    },
    {
     "data": {
      "text/html": [
       "<pre style=\"white-space:pre;overflow-x:auto;line-height:normal;font-family:Menlo,'DejaVu Sans Mono',consolas,'Courier New',monospace\">✅ <span style=\"color: #008000; text-decoration-color: #008000; font-weight: bold\">Best SARIMA order found:</span> <span style=\"font-weight: bold\">(</span><span style=\"color: #008080; text-decoration-color: #008080; font-weight: bold\">2</span>, <span style=\"color: #008080; text-decoration-color: #008080; font-weight: bold\">0</span>, <span style=\"color: #008080; text-decoration-color: #008080; font-weight: bold\">2</span>, <span style=\"color: #008080; text-decoration-color: #008080; font-weight: bold\">1</span>, <span style=\"color: #008080; text-decoration-color: #008080; font-weight: bold\">1</span>, <span style=\"color: #008080; text-decoration-color: #008080; font-weight: bold\">1</span><span style=\"font-weight: bold\">)</span> with MAE = <span style=\"color: #008080; text-decoration-color: #008080; font-weight: bold\">3148602585.67</span>\n",
       "</pre>\n"
      ],
      "text/plain": [
       "✅ \u001b[1;32mBest SARIMA order found:\u001b[0m \u001b[1m(\u001b[0m\u001b[1;36m2\u001b[0m, \u001b[1;36m0\u001b[0m, \u001b[1;36m2\u001b[0m, \u001b[1;36m1\u001b[0m, \u001b[1;36m1\u001b[0m, \u001b[1;36m1\u001b[0m\u001b[1m)\u001b[0m with MAE = \u001b[1;36m3148602585.67\u001b[0m\n"
      ]
     },
     "metadata": {},
     "output_type": "display_data"
    },
    {
     "data": {
      "text/html": [
       "<pre style=\"white-space:pre;overflow-x:auto;line-height:normal;font-family:Menlo,'DejaVu Sans Mono',consolas,'Courier New',monospace\">📊 <span style=\"color: #008000; text-decoration-color: #008000; font-weight: bold\">Best SARIMA order for Deutsche Bank AG: (</span><span style=\"color: #008000; text-decoration-color: #008000; font-weight: bold\">2</span><span style=\"color: #008000; text-decoration-color: #008000; font-weight: bold\">, </span><span style=\"color: #008000; text-decoration-color: #008000; font-weight: bold\">0</span><span style=\"color: #008000; text-decoration-color: #008000; font-weight: bold\">, </span><span style=\"color: #008000; text-decoration-color: #008000; font-weight: bold\">2</span><span style=\"color: #008000; text-decoration-color: #008000; font-weight: bold\">, </span><span style=\"color: #008000; text-decoration-color: #008000; font-weight: bold\">1</span><span style=\"color: #008000; text-decoration-color: #008000; font-weight: bold\">, </span><span style=\"color: #008000; text-decoration-color: #008000; font-weight: bold\">1</span><span style=\"color: #008000; text-decoration-color: #008000; font-weight: bold\">, </span><span style=\"color: #008000; text-decoration-color: #008000; font-weight: bold\">1</span><span style=\"color: #008000; text-decoration-color: #008000; font-weight: bold\">)</span>\n",
       "</pre>\n"
      ],
      "text/plain": [
       "📊 \u001b[1;32mBest SARIMA order for Deutsche Bank AG: \u001b[0m\u001b[1;32m(\u001b[0m\u001b[1;32m2\u001b[0m\u001b[1;32m, \u001b[0m\u001b[1;32m0\u001b[0m\u001b[1;32m, \u001b[0m\u001b[1;32m2\u001b[0m\u001b[1;32m, \u001b[0m\u001b[1;32m1\u001b[0m\u001b[1;32m, \u001b[0m\u001b[1;32m1\u001b[0m\u001b[1;32m, \u001b[0m\u001b[1;32m1\u001b[0m\u001b[1;32m)\u001b[0m\n"
      ]
     },
     "metadata": {},
     "output_type": "display_data"
    },
    {
     "data": {
      "text/html": [
       "<pre style=\"white-space:pre;overflow-x:auto;line-height:normal;font-family:Menlo,'DejaVu Sans Mono',consolas,'Courier New',monospace\">🚀 <span style=\"color: #000080; text-decoration-color: #000080; font-weight: bold\">Processing Porsche AG...</span>\n",
       "</pre>\n"
      ],
      "text/plain": [
       "🚀 \u001b[1;34mProcessing Porsche AG\u001b[0m\u001b[1;34m...\u001b[0m\n"
      ]
     },
     "metadata": {},
     "output_type": "display_data"
    },
    {
     "data": {
      "text/html": [
       "<pre style=\"white-space:pre;overflow-x:auto;line-height:normal;font-family:Menlo,'DejaVu Sans Mono',consolas,'Courier New',monospace\">🔍 <span style=\"color: #008080; text-decoration-color: #008080; font-weight: bold\">Searching best SARIMA model... (</span><span style=\"color: #008080; text-decoration-color: #008080; font-weight: bold\">144</span><span style=\"color: #008080; text-decoration-color: #008080; font-weight: bold\"> combinations)</span>\n",
       "</pre>\n"
      ],
      "text/plain": [
       "🔍 \u001b[1;36mSearching best SARIMA model\u001b[0m\u001b[1;36m...\u001b[0m\u001b[1;36m \u001b[0m\u001b[1;36m(\u001b[0m\u001b[1;36m144\u001b[0m\u001b[1;36m combinations\u001b[0m\u001b[1;36m)\u001b[0m\n"
      ]
     },
     "metadata": {},
     "output_type": "display_data"
    },
    {
     "data": {
      "application/vnd.jupyter.widget-view+json": {
       "model_id": "9c18dd4edc9642f7a28f5e575cd9429d",
       "version_major": 2,
       "version_minor": 0
      },
      "text/plain": [
       "Output()"
      ]
     },
     "metadata": {},
     "output_type": "display_data"
    },
    {
     "data": {
      "text/html": [
       "<pre style=\"white-space:pre;overflow-x:auto;line-height:normal;font-family:Menlo,'DejaVu Sans Mono',consolas,'Courier New',monospace\"></pre>\n"
      ],
      "text/plain": []
     },
     "metadata": {},
     "output_type": "display_data"
    },
    {
     "data": {
      "text/html": [
       "<pre style=\"white-space:pre;overflow-x:auto;line-height:normal;font-family:Menlo,'DejaVu Sans Mono',consolas,'Courier New',monospace\">✅ <span style=\"color: #008000; text-decoration-color: #008000; font-weight: bold\">Best SARIMA order found:</span> <span style=\"font-weight: bold\">(</span><span style=\"color: #008080; text-decoration-color: #008080; font-weight: bold\">0</span>, <span style=\"color: #008080; text-decoration-color: #008080; font-weight: bold\">1</span>, <span style=\"color: #008080; text-decoration-color: #008080; font-weight: bold\">2</span>, <span style=\"color: #008080; text-decoration-color: #008080; font-weight: bold\">1</span>, <span style=\"color: #008080; text-decoration-color: #008080; font-weight: bold\">0</span>, <span style=\"color: #008080; text-decoration-color: #008080; font-weight: bold\">1</span><span style=\"font-weight: bold\">)</span> with MAE = <span style=\"color: #008080; text-decoration-color: #008080; font-weight: bold\">2956625321.60</span>\n",
       "</pre>\n"
      ],
      "text/plain": [
       "✅ \u001b[1;32mBest SARIMA order found:\u001b[0m \u001b[1m(\u001b[0m\u001b[1;36m0\u001b[0m, \u001b[1;36m1\u001b[0m, \u001b[1;36m2\u001b[0m, \u001b[1;36m1\u001b[0m, \u001b[1;36m0\u001b[0m, \u001b[1;36m1\u001b[0m\u001b[1m)\u001b[0m with MAE = \u001b[1;36m2956625321.60\u001b[0m\n"
      ]
     },
     "metadata": {},
     "output_type": "display_data"
    },
    {
     "data": {
      "text/html": [
       "<pre style=\"white-space:pre;overflow-x:auto;line-height:normal;font-family:Menlo,'DejaVu Sans Mono',consolas,'Courier New',monospace\">📊 <span style=\"color: #008000; text-decoration-color: #008000; font-weight: bold\">Best SARIMA order for Porsche AG: (</span><span style=\"color: #008000; text-decoration-color: #008000; font-weight: bold\">0</span><span style=\"color: #008000; text-decoration-color: #008000; font-weight: bold\">, </span><span style=\"color: #008000; text-decoration-color: #008000; font-weight: bold\">1</span><span style=\"color: #008000; text-decoration-color: #008000; font-weight: bold\">, </span><span style=\"color: #008000; text-decoration-color: #008000; font-weight: bold\">2</span><span style=\"color: #008000; text-decoration-color: #008000; font-weight: bold\">, </span><span style=\"color: #008000; text-decoration-color: #008000; font-weight: bold\">1</span><span style=\"color: #008000; text-decoration-color: #008000; font-weight: bold\">, </span><span style=\"color: #008000; text-decoration-color: #008000; font-weight: bold\">0</span><span style=\"color: #008000; text-decoration-color: #008000; font-weight: bold\">, </span><span style=\"color: #008000; text-decoration-color: #008000; font-weight: bold\">1</span><span style=\"color: #008000; text-decoration-color: #008000; font-weight: bold\">)</span>\n",
       "</pre>\n"
      ],
      "text/plain": [
       "📊 \u001b[1;32mBest SARIMA order for Porsche AG: \u001b[0m\u001b[1;32m(\u001b[0m\u001b[1;32m0\u001b[0m\u001b[1;32m, \u001b[0m\u001b[1;32m1\u001b[0m\u001b[1;32m, \u001b[0m\u001b[1;32m2\u001b[0m\u001b[1;32m, \u001b[0m\u001b[1;32m1\u001b[0m\u001b[1;32m, \u001b[0m\u001b[1;32m0\u001b[0m\u001b[1;32m, \u001b[0m\u001b[1;32m1\u001b[0m\u001b[1;32m)\u001b[0m\n"
      ]
     },
     "metadata": {},
     "output_type": "display_data"
    },
    {
     "data": {
      "text/html": [
       "<pre style=\"white-space:pre;overflow-x:auto;line-height:normal;font-family:Menlo,'DejaVu Sans Mono',consolas,'Courier New',monospace\">🚀 <span style=\"color: #000080; text-decoration-color: #000080; font-weight: bold\">Processing Merck KGaA...</span>\n",
       "</pre>\n"
      ],
      "text/plain": [
       "🚀 \u001b[1;34mProcessing Merck KGaA\u001b[0m\u001b[1;34m...\u001b[0m\n"
      ]
     },
     "metadata": {},
     "output_type": "display_data"
    },
    {
     "data": {
      "text/html": [
       "<pre style=\"white-space:pre;overflow-x:auto;line-height:normal;font-family:Menlo,'DejaVu Sans Mono',consolas,'Courier New',monospace\">🔍 <span style=\"color: #008080; text-decoration-color: #008080; font-weight: bold\">Searching best SARIMA model... (</span><span style=\"color: #008080; text-decoration-color: #008080; font-weight: bold\">144</span><span style=\"color: #008080; text-decoration-color: #008080; font-weight: bold\"> combinations)</span>\n",
       "</pre>\n"
      ],
      "text/plain": [
       "🔍 \u001b[1;36mSearching best SARIMA model\u001b[0m\u001b[1;36m...\u001b[0m\u001b[1;36m \u001b[0m\u001b[1;36m(\u001b[0m\u001b[1;36m144\u001b[0m\u001b[1;36m combinations\u001b[0m\u001b[1;36m)\u001b[0m\n"
      ]
     },
     "metadata": {},
     "output_type": "display_data"
    },
    {
     "data": {
      "application/vnd.jupyter.widget-view+json": {
       "model_id": "6eab33e4717249689dbcdb1895eee919",
       "version_major": 2,
       "version_minor": 0
      },
      "text/plain": [
       "Output()"
      ]
     },
     "metadata": {},
     "output_type": "display_data"
    },
    {
     "data": {
      "text/html": [
       "<pre style=\"white-space:pre;overflow-x:auto;line-height:normal;font-family:Menlo,'DejaVu Sans Mono',consolas,'Courier New',monospace\"></pre>\n"
      ],
      "text/plain": []
     },
     "metadata": {},
     "output_type": "display_data"
    },
    {
     "data": {
      "text/html": [
       "<pre style=\"white-space:pre;overflow-x:auto;line-height:normal;font-family:Menlo,'DejaVu Sans Mono',consolas,'Courier New',monospace\">✅ <span style=\"color: #008000; text-decoration-color: #008000; font-weight: bold\">Best SARIMA order found:</span> <span style=\"font-weight: bold\">(</span><span style=\"color: #008080; text-decoration-color: #008080; font-weight: bold\">1</span>, <span style=\"color: #008080; text-decoration-color: #008080; font-weight: bold\">0</span>, <span style=\"color: #008080; text-decoration-color: #008080; font-weight: bold\">2</span>, <span style=\"color: #008080; text-decoration-color: #008080; font-weight: bold\">0</span>, <span style=\"color: #008080; text-decoration-color: #008080; font-weight: bold\">0</span>, <span style=\"color: #008080; text-decoration-color: #008080; font-weight: bold\">1</span><span style=\"font-weight: bold\">)</span> with MAE = <span style=\"color: #008080; text-decoration-color: #008080; font-weight: bold\">3593527704.42</span>\n",
       "</pre>\n"
      ],
      "text/plain": [
       "✅ \u001b[1;32mBest SARIMA order found:\u001b[0m \u001b[1m(\u001b[0m\u001b[1;36m1\u001b[0m, \u001b[1;36m0\u001b[0m, \u001b[1;36m2\u001b[0m, \u001b[1;36m0\u001b[0m, \u001b[1;36m0\u001b[0m, \u001b[1;36m1\u001b[0m\u001b[1m)\u001b[0m with MAE = \u001b[1;36m3593527704.42\u001b[0m\n"
      ]
     },
     "metadata": {},
     "output_type": "display_data"
    },
    {
     "data": {
      "text/html": [
       "<pre style=\"white-space:pre;overflow-x:auto;line-height:normal;font-family:Menlo,'DejaVu Sans Mono',consolas,'Courier New',monospace\">📊 <span style=\"color: #008000; text-decoration-color: #008000; font-weight: bold\">Best SARIMA order for Merck KGaA: (</span><span style=\"color: #008000; text-decoration-color: #008000; font-weight: bold\">1</span><span style=\"color: #008000; text-decoration-color: #008000; font-weight: bold\">, </span><span style=\"color: #008000; text-decoration-color: #008000; font-weight: bold\">0</span><span style=\"color: #008000; text-decoration-color: #008000; font-weight: bold\">, </span><span style=\"color: #008000; text-decoration-color: #008000; font-weight: bold\">2</span><span style=\"color: #008000; text-decoration-color: #008000; font-weight: bold\">, </span><span style=\"color: #008000; text-decoration-color: #008000; font-weight: bold\">0</span><span style=\"color: #008000; text-decoration-color: #008000; font-weight: bold\">, </span><span style=\"color: #008000; text-decoration-color: #008000; font-weight: bold\">0</span><span style=\"color: #008000; text-decoration-color: #008000; font-weight: bold\">, </span><span style=\"color: #008000; text-decoration-color: #008000; font-weight: bold\">1</span><span style=\"color: #008000; text-decoration-color: #008000; font-weight: bold\">)</span>\n",
       "</pre>\n"
      ],
      "text/plain": [
       "📊 \u001b[1;32mBest SARIMA order for Merck KGaA: \u001b[0m\u001b[1;32m(\u001b[0m\u001b[1;32m1\u001b[0m\u001b[1;32m, \u001b[0m\u001b[1;32m0\u001b[0m\u001b[1;32m, \u001b[0m\u001b[1;32m2\u001b[0m\u001b[1;32m, \u001b[0m\u001b[1;32m0\u001b[0m\u001b[1;32m, \u001b[0m\u001b[1;32m0\u001b[0m\u001b[1;32m, \u001b[0m\u001b[1;32m1\u001b[0m\u001b[1;32m)\u001b[0m\n"
      ]
     },
     "metadata": {},
     "output_type": "display_data"
    },
    {
     "name": "stdout",
     "output_type": "stream",
     "text": [
      "                      Best SARIMA Order           MAE          RMSE      MAPE  \\\n",
      "Volkswagen AG        (0, 0, 2, 0, 1, 0)  2.965775e+09  3.591599e+09  0.267049   \n",
      "Siemens AG           (0, 1, 0, 0, 0, 1)  3.384833e+09  3.781294e+09  0.356424   \n",
      "Allianz SE           (0, 1, 2, 0, 0, 1)  4.659838e+09  5.217301e+09  0.443738   \n",
      "BMW AG               (2, 1, 1, 1, 0, 0)  3.908350e+09  4.430682e+09  0.398364   \n",
      "BASF SE              (0, 1, 2, 1, 0, 0)  3.206611e+09  4.004590e+09  0.225905   \n",
      "Deutsche Telekom AG  (2, 1, 1, 1, 0, 0)  4.798453e+09  5.774398e+09  0.618780   \n",
      "Daimler AG           (2, 0, 2, 0, 1, 1)  4.064572e+09  4.735020e+09  0.505780   \n",
      "SAP SE               (0, 1, 2, 1, 0, 0)  2.461732e+09  2.998258e+09  0.214557   \n",
      "Bayer AG             (1, 1, 1, 0, 0, 0)  4.306329e+09  4.629554e+09  0.535126   \n",
      "Deutsche Bank AG     (2, 0, 2, 1, 1, 1)  5.508653e+09  6.387944e+09  0.389402   \n",
      "Porsche AG           (0, 1, 2, 1, 0, 1)  5.326442e+09  5.831061e+09  0.345923   \n",
      "Merck KGaA           (1, 0, 2, 0, 0, 1)  4.115437e+09  4.516064e+09  0.277715   \n",
      "\n",
      "                         MASE   R² Score  \n",
      "Volkswagen AG        0.609831  -0.607107  \n",
      "Siemens AG           0.774242  -0.893854  \n",
      "Allianz SE           0.627911  -0.021448  \n",
      "BMW AG               0.860351  -0.092528  \n",
      "BASF SE              0.581394  -0.370256  \n",
      "Deutsche Telekom AG  0.739504  -0.416678  \n",
      "Daimler AG           0.592707  -0.126419  \n",
      "SAP SE               0.615539   0.029654  \n",
      "Bayer AG             1.228979  -1.517118  \n",
      "Deutsche Bank AG     0.752349  -0.729597  \n",
      "Porsche AG           1.780631 -10.643312  \n",
      "Merck KGaA           1.424593  -0.346031  \n"
     ]
    }
   ],
   "source": [
    "# Run the script\n",
    "main(\"../data/Top_12_German_Companies_Financial_Data.csv\")\n"
   ]
  },
  {
   "cell_type": "code",
   "execution_count": null,
   "metadata": {},
   "outputs": [],
   "source": []
  },
  {
   "cell_type": "code",
   "execution_count": null,
   "metadata": {},
   "outputs": [],
   "source": []
  },
  {
   "cell_type": "code",
   "execution_count": null,
   "metadata": {},
   "outputs": [],
   "source": []
  }
 ],
 "metadata": {
  "kernelspec": {
   "display_name": "ai_env",
   "language": "python",
   "name": "python3"
  },
  "language_info": {
   "codemirror_mode": {
    "name": "ipython",
    "version": 3
   },
   "file_extension": ".py",
   "mimetype": "text/x-python",
   "name": "python",
   "nbconvert_exporter": "python",
   "pygments_lexer": "ipython3",
   "version": "3.10.16"
  }
 },
 "nbformat": 4,
 "nbformat_minor": 2
}
