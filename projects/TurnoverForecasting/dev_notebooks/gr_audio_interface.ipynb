{
 "cells": [
  {
   "cell_type": "code",
   "execution_count": 1,
   "metadata": {},
   "outputs": [
    {
     "name": "stderr",
     "output_type": "stream",
     "text": [
      "/opt/conda/envs/ai_env/lib/python3.10/site-packages/tqdm/auto.py:21: TqdmWarning: IProgress not found. Please update jupyter and ipywidgets. See https://ipywidgets.readthedocs.io/en/stable/user_install.html\n",
      "  from .autonotebook import tqdm as notebook_tqdm\n"
     ]
    }
   ],
   "source": [
    "import gradio as gr\n",
    "import pandas as pd\n",
    "import numpy as np\n",
    "import plotly.graph_objects as go\n",
    "from neuralforecast import NeuralForecast\n",
    "from neuralforecast.models import LSTM\n",
    "from neuralforecast.losses.pytorch import MAE\n",
    "import plotly.io as pio\n",
    "pio.renderers.default = \"notebook\"\n"
   ]
  },
  {
   "cell_type": "code",
   "execution_count": 2,
   "metadata": {},
   "outputs": [],
   "source": [
    "# 📌 Load Data\n",
    "df = pd.read_csv(\"../data/Top_12_German_Companies_Financial_Data.csv\")\n",
    "df = df[df[\"Company\"] == \"Merck KGaA\"].copy()\n",
    "\n",
    "# Convert date column and sort for proper time-series analysis\n",
    "df[\"Period\"] = pd.to_datetime(df[\"Period\"], format=\"%m/%d/%Y\")\n",
    "df = df.sort_values(by=\"Period\")\n",
    "\n",
    "# Convert revenue to numeric and rename for NeuralForecast\n",
    "df[\"Revenue\"] = pd.to_numeric(df[\"Revenue\"], errors=\"coerce\")\n",
    "df = df.rename(columns={\"Period\": \"ds\", \"Revenue\": \"y\"})\n",
    "df[\"unique_id\"] = \"all\"\n",
    "df = df[[\"unique_id\", \"ds\", \"y\"]]"
   ]
  },
  {
   "cell_type": "code",
   "execution_count": 3,
   "metadata": {},
   "outputs": [],
   "source": [
    "# 📌 Train-Test Split\n",
    "val_size = int(len(df) * 0.2)\n",
    "train, val = df[:-val_size], df[-val_size:]"
   ]
  },
  {
   "cell_type": "code",
   "execution_count": 4,
   "metadata": {},
   "outputs": [
    {
     "name": "stderr",
     "output_type": "stream",
     "text": [
      "Seed set to 1\n"
     ]
    },
    {
     "name": "stdout",
     "output_type": "stream",
     "text": [
      "Epoch 999: 100%|██████████| 1/1 [00:00<00:00, 41.95it/s, v_num=797, train_loss_step=0.259, train_loss_epoch=0.259]  \n"
     ]
    }
   ],
   "source": [
    "# 📌 Define & Train the Model **(Once)**\n",
    "hidden_neurons = 12\n",
    "input_size = 8\n",
    "best_model = LSTM(\n",
    "    h=hidden_neurons, input_size=input_size, loss=MAE(), alias=f\"LSTM_{hidden_neurons}\"\n",
    ")\n",
    "\n",
    "# Train the model **before launching Gradio**\n",
    "nf_best = NeuralForecast(models=[best_model], freq=\"Q\")\n",
    "nf_best.fit(df=train)  # ✅ Model is trained once here"
   ]
  },
  {
   "cell_type": "code",
   "execution_count": 5,
   "metadata": {},
   "outputs": [],
   "source": [
    "def forecast_turnover(horizon):\n",
    "    print(f\"🔍 Generating forecast for {horizon} quarters ahead...\")\n",
    "\n",
    "    horizon = int(horizon)\n",
    "\n",
    "    # Step 1: Generate Forecast\n",
    "    forecast_df = nf_best.predict().reset_index()\n",
    "    print(f\"🔍 Forecast DataFrame: {forecast_df.head()}\")\n",
    "\n",
    "    if forecast_df.empty:\n",
    "        return None, \"🚨 Error: No forecast data available!\"\n",
    "\n",
    "    # Step 2: Check Model Output Columns\n",
    "    model_name = best_model.alias\n",
    "    available_columns = list(forecast_df.columns)\n",
    "    pred_col = next((col for col in available_columns if model_name in col), None)\n",
    "\n",
    "    if pred_col is None:\n",
    "        return None, f\"🚨 Error: No valid prediction column found! Available: {forecast_df.columns}\"\n",
    "\n",
    "    print(f\"✅ Using Prediction Column: {pred_col}\")\n",
    "\n",
    "    # Step 3: Check Predictions\n",
    "    predictions = forecast_df[pred_col].values\n",
    "\n",
    "    if len(predictions) < horizon:\n",
    "        return None, f\"🚨 Error: Model returned only {len(predictions)} predictions, expected {horizon}.\"\n",
    "\n",
    "    predictions = predictions[:horizon]\n",
    "    print(f\"✅ Predictions: {predictions}\")\n",
    "\n",
    "    # Step 4: Ensure Future Dates Are Valid\n",
    "    if train[\"ds\"].empty:\n",
    "        return None, \"🚨 Error: Training data is empty!\"\n",
    "\n",
    "    last_date = train[\"ds\"].max()\n",
    "    future_dates = pd.date_range(start=last_date, periods=horizon + 1, freq=\"Q\")[1:]\n",
    "    print(f\"✅ Future Dates: {future_dates}\")\n",
    "\n",
    "    # 📊 Create Plotly Figure\n",
    "    fig = go.Figure()\n",
    "    fig.add_trace(go.Scatter(x=train[\"ds\"], y=train[\"y\"], mode=\"lines\", name=\"Training Data\"))\n",
    "    fig.add_trace(go.Scatter(x=val[\"ds\"], y=val[\"y\"], mode=\"lines\", name=\"Actual Revenue\"))\n",
    "    fig.add_trace(go.Scatter(x=future_dates, y=predictions, mode=\"lines+markers\", name=\"Forecast\"))\n",
    "\n",
    "    fig.update_layout(title=\"Turnover Forecast\", xaxis_title=\"Date\", yaxis_title=\"Revenue (€)\", template=\"plotly_white\")\n",
    "\n",
    "    return fig, f\"✅ Forecast Generated for {horizon} Quarters.\"\n"
   ]
  },
  {
   "cell_type": "code",
   "execution_count": 6,
   "metadata": {},
   "outputs": [
    {
     "name": "stdout",
     "output_type": "stream",
     "text": [
      "🔍 Generating forecast for 6 quarters ahead...\n",
      "Predicting DataLoader 0: 100%|██████████| 1/1 [00:00<00:00, 11.51it/s]\n",
      "🔍 Forecast DataFrame:   unique_id         ds       LSTM_12\n",
      "0       all 2023-09-30  9.739462e+09\n",
      "1       all 2023-12-31  1.746220e+10\n",
      "2       all 2024-03-31  9.072552e+09\n",
      "3       all 2024-06-30  1.578190e+10\n",
      "4       all 2024-09-30  1.658214e+10\n",
      "✅ Using Prediction Column: LSTM_12\n",
      "✅ Predictions: [9.73946163e+09 1.74621962e+10 9.07255194e+09 1.57819023e+10\n",
      " 1.65821420e+10 1.67350323e+10]\n",
      "✅ Future Dates: DatetimeIndex(['2023-09-30', '2023-12-31', '2024-03-31', '2024-06-30',\n",
      "               '2024-09-30', '2024-12-31'],\n",
      "              dtype='datetime64[ns]', freq='Q-DEC')\n"
     ]
    },
    {
     "data": {
      "text/plain": [
       "(Figure({\n",
       "     'data': [{'mode': 'lines',\n",
       "               'name': 'Training Data',\n",
       "               'type': 'scatter',\n",
       "               'x': array(['2017-03-31T00:00:00.000000000', '2017-06-30T00:00:00.000000000',\n",
       "                           '2017-09-30T00:00:00.000000000', '2017-12-31T00:00:00.000000000',\n",
       "                           '2018-03-31T00:00:00.000000000', '2018-06-30T00:00:00.000000000',\n",
       "                           '2018-09-30T00:00:00.000000000', '2018-12-31T00:00:00.000000000',\n",
       "                           '2019-03-31T00:00:00.000000000', '2019-06-30T00:00:00.000000000',\n",
       "                           '2019-09-30T00:00:00.000000000', '2019-12-31T00:00:00.000000000',\n",
       "                           '2020-03-31T00:00:00.000000000', '2020-06-30T00:00:00.000000000',\n",
       "                           '2020-09-30T00:00:00.000000000', '2020-12-31T00:00:00.000000000',\n",
       "                           '2021-03-31T00:00:00.000000000', '2021-06-30T00:00:00.000000000',\n",
       "                           '2021-09-30T00:00:00.000000000', '2021-12-31T00:00:00.000000000',\n",
       "                           '2022-03-31T00:00:00.000000000', '2022-06-30T00:00:00.000000000',\n",
       "                           '2022-09-30T00:00:00.000000000', '2022-12-31T00:00:00.000000000',\n",
       "                           '2023-03-31T00:00:00.000000000', '2023-06-30T00:00:00.000000000'],\n",
       "                          dtype='datetime64[ns]'),\n",
       "               'y': array([ 6974057939, 11003803134, 17552142118, 11760953647,  9318197850,\n",
       "                            7868422908, 17415152986, 14241334382, 19217681417, 16209619277,\n",
       "                           12097020632, 17666094987, 15236467952, 17048403140,  8081970522,\n",
       "                            5897253747, 14786170161, 14025754117, 14686380695, 12917187369,\n",
       "                            7570645554, 19175705351,  7888146905,  7610452133, 18085416710,\n",
       "                            9146296754])},\n",
       "              {'mode': 'lines',\n",
       "               'name': 'Actual Revenue',\n",
       "               'type': 'scatter',\n",
       "               'x': array(['2023-09-30T00:00:00.000000000', '2023-12-31T00:00:00.000000000',\n",
       "                           '2024-03-31T00:00:00.000000000', '2024-06-30T00:00:00.000000000',\n",
       "                           '2024-09-30T00:00:00.000000000', '2024-12-31T00:00:00.000000000'],\n",
       "                          dtype='datetime64[ns]'),\n",
       "               'y': array([ 9297896247, 17637490503, 18818295502, 16561793827, 15036344926,\n",
       "                           18915504026])},\n",
       "              {'mode': 'lines+markers',\n",
       "               'name': 'Forecast',\n",
       "               'type': 'scatter',\n",
       "               'x': array(['2023-09-30T00:00:00.000000000', '2023-12-31T00:00:00.000000000',\n",
       "                           '2024-03-31T00:00:00.000000000', '2024-06-30T00:00:00.000000000',\n",
       "                           '2024-09-30T00:00:00.000000000', '2024-12-31T00:00:00.000000000'],\n",
       "                          dtype='datetime64[ns]'),\n",
       "               'y': {'bdata': 'AAAAICMkAkIAAADgT0MQQgAAAEAh5gBCAAAAwGVlDUIAAABA++IOQgAAAKDiKw9C', 'dtype': 'f8'}}],\n",
       "     'layout': {'template': '...',\n",
       "                'title': {'text': 'Turnover Forecast'},\n",
       "                'xaxis': {'title': {'text': 'Date'}},\n",
       "                'yaxis': {'title': {'text': 'Revenue (€)'}}}\n",
       " }),\n",
       " '✅ Forecast Generated for 6 Quarters.')"
      ]
     },
     "execution_count": 6,
     "metadata": {},
     "output_type": "execute_result"
    }
   ],
   "source": [
    "forecast_turnover(horizon=6)"
   ]
  },
  {
   "cell_type": "code",
   "execution_count": 7,
   "metadata": {},
   "outputs": [
    {
     "name": "stdout",
     "output_type": "stream",
     "text": [
      "* Running on local URL:  http://127.0.0.1:7860\n",
      "* Running on public URL: https://3bc885da9987f8e4d9.gradio.live\n",
      "\n",
      "This share link expires in 72 hours. For free permanent hosting and GPU upgrades, run `gradio deploy` from the terminal in the working directory to deploy to Hugging Face Spaces (https://huggingface.co/spaces)\n"
     ]
    },
    {
     "data": {
      "text/html": [
       "<div><iframe src=\"https://3bc885da9987f8e4d9.gradio.live\" width=\"100%\" height=\"500\" allow=\"autoplay; camera; microphone; clipboard-read; clipboard-write;\" frameborder=\"0\" allowfullscreen></iframe></div>"
      ],
      "text/plain": [
       "<IPython.core.display.HTML object>"
      ]
     },
     "metadata": {},
     "output_type": "display_data"
    },
    {
     "data": {
      "text/plain": []
     },
     "execution_count": 7,
     "metadata": {},
     "output_type": "execute_result"
    },
    {
     "name": "stdout",
     "output_type": "stream",
     "text": [
      "🔍 Generating forecast for 4 quarters ahead...\n",
      "Predicting DataLoader 0: 100%|██████████| 1/1 [00:00<00:00, 75.45it/s]\n",
      "🔍 Forecast DataFrame:   unique_id         ds       LSTM_12\n",
      "0       all 2023-09-30  9.739462e+09\n",
      "1       all 2023-12-31  1.746220e+10\n",
      "2       all 2024-03-31  9.072552e+09\n",
      "3       all 2024-06-30  1.578190e+10\n",
      "4       all 2024-09-30  1.658214e+10\n",
      "✅ Using Prediction Column: LSTM_12\n",
      "✅ Predictions: [9.73946163e+09 1.74621962e+10 9.07255194e+09 1.57819023e+10]\n",
      "✅ Future Dates: DatetimeIndex(['2023-09-30', '2023-12-31', '2024-03-31', '2024-06-30'], dtype='datetime64[ns]', freq='Q-DEC')\n",
      "🔍 Generating forecast for 6 quarters ahead...\n",
      "Predicting DataLoader 0: 100%|██████████| 1/1 [00:00<00:00, 127.38it/s]\n",
      "🔍 Forecast DataFrame:   unique_id         ds       LSTM_12\n",
      "0       all 2023-09-30  9.739462e+09\n",
      "1       all 2023-12-31  1.746220e+10\n",
      "2       all 2024-03-31  9.072552e+09\n",
      "3       all 2024-06-30  1.578190e+10\n",
      "4       all 2024-09-30  1.658214e+10\n",
      "✅ Using Prediction Column: LSTM_12\n",
      "✅ Predictions: [9.73946163e+09 1.74621962e+10 9.07255194e+09 1.57819023e+10\n",
      " 1.65821420e+10 1.67350323e+10]\n",
      "✅ Future Dates: DatetimeIndex(['2023-09-30', '2023-12-31', '2024-03-31', '2024-06-30',\n",
      "               '2024-09-30', '2024-12-31'],\n",
      "              dtype='datetime64[ns]', freq='Q-DEC')\n"
     ]
    }
   ],
   "source": [
    "iface = gr.Interface(\n",
    "    fn=forecast_turnover,\n",
    "    inputs=gr.Slider(minimum=1, maximum=6, step=1, label=\"Forecast Horizon (Quarters)\"),\n",
    "    outputs=[gr.Plot(), gr.Textbox()],\n",
    "    title=\"Merck KGaA Turnover Forecast\",\n",
    "    description=\"Select the forecast horizon (in quarters) to generate turnover predictions for Merck KGaA.\",\n",
    ")\n",
    "\n",
    "# ✅ Use `share=True` to avoid localhost issues\n",
    "iface.launch(share=True)"
   ]
  },
  {
   "cell_type": "code",
   "execution_count": null,
   "metadata": {},
   "outputs": [],
   "source": []
  }
 ],
 "metadata": {
  "kernelspec": {
   "display_name": "ai_env",
   "language": "python",
   "name": "python3"
  },
  "language_info": {
   "codemirror_mode": {
    "name": "ipython",
    "version": 3
   },
   "file_extension": ".py",
   "mimetype": "text/x-python",
   "name": "python",
   "nbconvert_exporter": "python",
   "pygments_lexer": "ipython3",
   "version": "3.10.16"
  }
 },
 "nbformat": 4,
 "nbformat_minor": 2
}
