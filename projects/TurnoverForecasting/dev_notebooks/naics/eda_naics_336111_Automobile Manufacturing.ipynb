{
 "cells": [
  {
   "cell_type": "code",
   "execution_count": 1,
   "metadata": {},
   "outputs": [],
   "source": [
    "# %%\n",
    "import pandas as pd\n",
    "import os \n",
    "import matplotlib.pyplot as plt\n",
    "import seaborn as sns\n",
    "import numpy as np\n",
    "import math \n",
    "from sklearn.impute import KNNImputer\n",
    "from sklearn.ensemble import RandomForestRegressor\n",
    "from sklearn.preprocessing import QuantileTransformer\n",
    "from scipy.stats import boxcox"
   ]
  },
  {
   "cell_type": "code",
   "execution_count": 2,
   "metadata": {},
   "outputs": [
    {
     "data": {
      "text/html": [
       "<div>\n",
       "<style scoped>\n",
       "    .dataframe tbody tr th:only-of-type {\n",
       "        vertical-align: middle;\n",
       "    }\n",
       "\n",
       "    .dataframe tbody tr th {\n",
       "        vertical-align: top;\n",
       "    }\n",
       "\n",
       "    .dataframe thead th {\n",
       "        text-align: right;\n",
       "    }\n",
       "</style>\n",
       "<table border=\"1\" class=\"dataframe\">\n",
       "  <thead>\n",
       "    <tr style=\"text-align: right;\">\n",
       "      <th></th>\n",
       "      <th>naics</th>\n",
       "      <th>year</th>\n",
       "      <th>emp</th>\n",
       "      <th>pay</th>\n",
       "      <th>prode</th>\n",
       "      <th>prodh</th>\n",
       "      <th>prodw</th>\n",
       "      <th>vship</th>\n",
       "      <th>matcost</th>\n",
       "      <th>vadd</th>\n",
       "      <th>...</th>\n",
       "      <th>equip</th>\n",
       "      <th>plant</th>\n",
       "      <th>piship</th>\n",
       "      <th>pimat</th>\n",
       "      <th>piinv</th>\n",
       "      <th>pien</th>\n",
       "      <th>dtfp5</th>\n",
       "      <th>tfp5</th>\n",
       "      <th>dtfp4</th>\n",
       "      <th>tfp4</th>\n",
       "    </tr>\n",
       "  </thead>\n",
       "  <tbody>\n",
       "    <tr>\n",
       "      <th>0</th>\n",
       "      <td>336111</td>\n",
       "      <td>1958</td>\n",
       "      <td>146.1</td>\n",
       "      <td>868.4</td>\n",
       "      <td>116.2</td>\n",
       "      <td>229.7</td>\n",
       "      <td>650.6</td>\n",
       "      <td>5007.9</td>\n",
       "      <td>3411.3</td>\n",
       "      <td>1563.8</td>\n",
       "      <td>...</td>\n",
       "      <td>3291.1</td>\n",
       "      <td>11718.8</td>\n",
       "      <td>0.314</td>\n",
       "      <td>0.238</td>\n",
       "      <td>0.180</td>\n",
       "      <td>0.147</td>\n",
       "      <td>NaN</td>\n",
       "      <td>0.553</td>\n",
       "      <td>NaN</td>\n",
       "      <td>0.550</td>\n",
       "    </tr>\n",
       "    <tr>\n",
       "      <th>1</th>\n",
       "      <td>336111</td>\n",
       "      <td>1959</td>\n",
       "      <td>160.6</td>\n",
       "      <td>1072.6</td>\n",
       "      <td>131.0</td>\n",
       "      <td>283.2</td>\n",
       "      <td>827.2</td>\n",
       "      <td>6422.2</td>\n",
       "      <td>4306.7</td>\n",
       "      <td>2143.4</td>\n",
       "      <td>...</td>\n",
       "      <td>3457.5</td>\n",
       "      <td>11415.6</td>\n",
       "      <td>0.322</td>\n",
       "      <td>0.243</td>\n",
       "      <td>0.184</td>\n",
       "      <td>0.145</td>\n",
       "      <td>0.052</td>\n",
       "      <td>0.583</td>\n",
       "      <td>0.053</td>\n",
       "      <td>0.580</td>\n",
       "    </tr>\n",
       "    <tr>\n",
       "      <th>2</th>\n",
       "      <td>336111</td>\n",
       "      <td>1960</td>\n",
       "      <td>176.1</td>\n",
       "      <td>1183.7</td>\n",
       "      <td>144.7</td>\n",
       "      <td>302.8</td>\n",
       "      <td>925.7</td>\n",
       "      <td>7239.0</td>\n",
       "      <td>4883.5</td>\n",
       "      <td>2336.2</td>\n",
       "      <td>...</td>\n",
       "      <td>3673.0</td>\n",
       "      <td>11375.1</td>\n",
       "      <td>0.318</td>\n",
       "      <td>0.241</td>\n",
       "      <td>0.190</td>\n",
       "      <td>0.150</td>\n",
       "      <td>0.030</td>\n",
       "      <td>0.601</td>\n",
       "      <td>0.030</td>\n",
       "      <td>0.598</td>\n",
       "    </tr>\n",
       "    <tr>\n",
       "      <th>3</th>\n",
       "      <td>336111</td>\n",
       "      <td>1961</td>\n",
       "      <td>152.4</td>\n",
       "      <td>1035.7</td>\n",
       "      <td>123.2</td>\n",
       "      <td>252.9</td>\n",
       "      <td>789.5</td>\n",
       "      <td>6214.2</td>\n",
       "      <td>4134.9</td>\n",
       "      <td>2053.6</td>\n",
       "      <td>...</td>\n",
       "      <td>3794.2</td>\n",
       "      <td>11179.9</td>\n",
       "      <td>0.317</td>\n",
       "      <td>0.242</td>\n",
       "      <td>0.190</td>\n",
       "      <td>0.146</td>\n",
       "      <td>-0.007</td>\n",
       "      <td>0.596</td>\n",
       "      <td>-0.009</td>\n",
       "      <td>0.592</td>\n",
       "    </tr>\n",
       "    <tr>\n",
       "      <th>4</th>\n",
       "      <td>336111</td>\n",
       "      <td>1962</td>\n",
       "      <td>168.2</td>\n",
       "      <td>1223.6</td>\n",
       "      <td>138.4</td>\n",
       "      <td>297.1</td>\n",
       "      <td>954.7</td>\n",
       "      <td>7855.3</td>\n",
       "      <td>5187.9</td>\n",
       "      <td>2671.2</td>\n",
       "      <td>...</td>\n",
       "      <td>3908.1</td>\n",
       "      <td>11141.2</td>\n",
       "      <td>0.315</td>\n",
       "      <td>0.246</td>\n",
       "      <td>0.193</td>\n",
       "      <td>0.147</td>\n",
       "      <td>0.077</td>\n",
       "      <td>0.644</td>\n",
       "      <td>0.078</td>\n",
       "      <td>0.641</td>\n",
       "    </tr>\n",
       "  </tbody>\n",
       "</table>\n",
       "<p>5 rows × 24 columns</p>\n",
       "</div>"
      ],
      "text/plain": [
       "    naics  year    emp     pay  prode  prodh  prodw   vship  matcost    vadd  \\\n",
       "0  336111  1958  146.1   868.4  116.2  229.7  650.6  5007.9   3411.3  1563.8   \n",
       "1  336111  1959  160.6  1072.6  131.0  283.2  827.2  6422.2   4306.7  2143.4   \n",
       "2  336111  1960  176.1  1183.7  144.7  302.8  925.7  7239.0   4883.5  2336.2   \n",
       "3  336111  1961  152.4  1035.7  123.2  252.9  789.5  6214.2   4134.9  2053.6   \n",
       "4  336111  1962  168.2  1223.6  138.4  297.1  954.7  7855.3   5187.9  2671.2   \n",
       "\n",
       "   ...   equip    plant  piship  pimat  piinv   pien  dtfp5   tfp5  dtfp4  \\\n",
       "0  ...  3291.1  11718.8   0.314  0.238  0.180  0.147    NaN  0.553    NaN   \n",
       "1  ...  3457.5  11415.6   0.322  0.243  0.184  0.145  0.052  0.583  0.053   \n",
       "2  ...  3673.0  11375.1   0.318  0.241  0.190  0.150  0.030  0.601  0.030   \n",
       "3  ...  3794.2  11179.9   0.317  0.242  0.190  0.146 -0.007  0.596 -0.009   \n",
       "4  ...  3908.1  11141.2   0.315  0.246  0.193  0.147  0.077  0.644  0.078   \n",
       "\n",
       "    tfp4  \n",
       "0  0.550  \n",
       "1  0.580  \n",
       "2  0.598  \n",
       "3  0.592  \n",
       "4  0.641  \n",
       "\n",
       "[5 rows x 24 columns]"
      ]
     },
     "execution_count": 2,
     "metadata": {},
     "output_type": "execute_result"
    }
   ],
   "source": [
    "# Load the dataset\n",
    "file_path = \"../data/nberces5818v1_n2012.csv\"\n",
    "req_naics = 336111\n",
    "df = pd.read_csv(file_path)\n",
    "df = df[df['naics'] == req_naics].reset_index(drop=True)\n",
    "df.head()"
   ]
  },
  {
   "cell_type": "code",
   "execution_count": 3,
   "metadata": {},
   "outputs": [
    {
     "data": {
      "text/plain": [
       "array([336111])"
      ]
     },
     "execution_count": 3,
     "metadata": {},
     "output_type": "execute_result"
    }
   ],
   "source": [
    "df[\"naics\"].unique()"
   ]
  },
  {
   "cell_type": "code",
   "execution_count": 4,
   "metadata": {},
   "outputs": [
    {
     "data": {
      "text/plain": [
       "(1958, 2018)"
      ]
     },
     "execution_count": 4,
     "metadata": {},
     "output_type": "execute_result"
    }
   ],
   "source": [
    "df['year'].min(), df['year'].max()"
   ]
  },
  {
   "cell_type": "code",
   "execution_count": 5,
   "metadata": {},
   "outputs": [
    {
     "name": "stdout",
     "output_type": "stream",
     "text": [
      "naics      0\n",
      "year       0\n",
      "emp        0\n",
      "pay        0\n",
      "prode      0\n",
      "prodh      0\n",
      "prodw      0\n",
      "vship      0\n",
      "matcost    0\n",
      "vadd       0\n",
      "invest     1\n",
      "invent     0\n",
      "energy     0\n",
      "cap        2\n",
      "equip      2\n",
      "plant      2\n",
      "piship     0\n",
      "pimat      0\n",
      "piinv      2\n",
      "pien       0\n",
      "dtfp5      3\n",
      "tfp5       2\n",
      "dtfp4      3\n",
      "tfp4       2\n",
      "dtype: int64\n"
     ]
    }
   ],
   "source": [
    "# Display basic info about the dataset\n",
    "# df.info()\n",
    "\n",
    "# Check for missing values\n",
    "missing_values = df.isnull().sum()\n",
    "\n",
    "print(missing_values)"
   ]
  },
  {
   "cell_type": "code",
   "execution_count": 6,
   "metadata": {},
   "outputs": [
    {
     "name": "stdout",
     "output_type": "stream",
     "text": [
      "          naics         year         emp          pay       prode       prodh  \\\n",
      "count      61.0    61.000000   61.000000    61.000000   61.000000   61.000000   \n",
      "mean   336111.0  1988.000000  124.024590  4032.357377  103.673770  213.665574   \n",
      "std         0.0    17.752934   43.676266  1777.004432   35.489378   77.599989   \n",
      "min    336111.0  1958.000000   51.800000   868.400000   44.200000   88.300000   \n",
      "25%    336111.0  1973.000000   82.400000  2142.800000   71.100000  143.100000   \n",
      "50%    336111.0  1988.000000  118.900000  4774.500000  101.100000  209.400000   \n",
      "75%    336111.0  2003.000000  160.600000  5352.100000  132.200000  281.100000   \n",
      "max    336111.0  2018.000000  214.200000  6672.100000  178.700000  381.900000   \n",
      "\n",
      "             prodw          vship        matcost          vadd  ...  \\\n",
      "count    61.000000      61.000000      61.000000     61.000000  ...   \n",
      "mean   3259.647541   56029.781967   41567.060656  14477.124590  ...   \n",
      "std    1465.632473   37591.482877   28807.927354   9313.021265  ...   \n",
      "min     650.600000    5007.900000    3411.300000   1563.800000  ...   \n",
      "25%    1679.000000   18747.700000   14174.400000   4746.700000  ...   \n",
      "50%    3819.500000   56986.900000   40266.300000  15435.300000  ...   \n",
      "75%    4460.500000   86511.900000   62824.000000  23186.800000  ...   \n",
      "max    5355.800000  129996.200000  102697.800000  30302.700000  ...   \n",
      "\n",
      "              equip         plant     piship      pimat      piinv       pien  \\\n",
      "count     59.000000     59.000000  61.000000  61.000000  59.000000  61.000000   \n",
      "mean   14160.484746  10031.601695   0.726492   0.684246   0.617644   0.646885   \n",
      "std     7070.066980    833.354944   0.290698   0.285429   0.297649   0.385185   \n",
      "min     3291.100000   9068.800000   0.312000   0.238000   0.180000   0.140000   \n",
      "25%     7533.500000   9361.800000   0.368000   0.334000   0.275000   0.185000   \n",
      "50%    14888.600000   9619.500000   0.823000   0.834000   0.683000   0.703000   \n",
      "75%    21225.100000  10909.200000   0.987000   0.890000   0.860500   0.959000   \n",
      "max    28998.700000  11718.800000   1.084000   1.025000   1.018000   1.367000   \n",
      "\n",
      "           dtfp5       tfp5      dtfp4       tfp4  \n",
      "count  58.000000  59.000000  58.000000  59.000000  \n",
      "mean    0.009052   0.867949   0.009155   0.866847  \n",
      "std     0.043284   0.124420   0.043497   0.125533  \n",
      "min    -0.097000   0.553000  -0.097000   0.550000  \n",
      "25%    -0.015500   0.817000  -0.015500   0.816000  \n",
      "50%     0.009000   0.922000   0.009000   0.921000  \n",
      "75%     0.035250   0.947000   0.035250   0.946500  \n",
      "max     0.156000   1.024000   0.156000   1.024000  \n",
      "\n",
      "[8 rows x 24 columns]\n"
     ]
    }
   ],
   "source": [
    "# Summary statistics\n",
    "summary_stats = df.describe()\n",
    "\n",
    "print(summary_stats)\n",
    "df.set_index('year', inplace=True)"
   ]
  },
  {
   "cell_type": "code",
   "execution_count": 7,
   "metadata": {},
   "outputs": [
    {
     "data": {
      "image/png": "[encoded data removed]",
      "text/plain": [
       "<Figure size 1200x600 with 1 Axes>"
      ]
     },
     "metadata": {},
     "output_type": "display_data"
    }
   ],
   "source": [
    "# Visualizing missing values\n",
    "plt.figure(figsize=(12, 6))\n",
    "sns.heatmap(df.isnull(), cmap=\"viridis\", cbar=False, yticklabels=False)\n",
    "plt.title(\"Missing Values in Dataset\")\n",
    "plt.show()"
   ]
  },
  {
   "cell_type": "code",
   "execution_count": 8,
   "metadata": {},
   "outputs": [],
   "source": [
    "# imputation_cols = ['invest', 'cap', 'equip', 'plant', 'piinv', 'dtfp5', 'dtfp4', 'tfp5', 'tfp4']\n",
    "# window_size= 5\n",
    "# df[imputation_cols] = df[imputation_cols].rolling(window_size, min_periods=1).median()\n",
    "# # df[imputation_cols] = df[imputation_cols].fillna(df[imputation_cols].median())\n"
   ]
  },
  {
   "cell_type": "code",
   "execution_count": 9,
   "metadata": {},
   "outputs": [],
   "source": [
    "# plt.figure(figsize=(10, 6))\n",
    "# sns.heatmap(df.isnull(), cmap=\"viridis\", cbar=False)\n",
    "# plt.title(\"Missing Values in Dataset\")\n",
    "# plt.xlabel(\"Columns\")\n",
    "# plt.ylabel(\"Year\")\n",
    "# plt.show()"
   ]
  },
  {
   "cell_type": "code",
   "execution_count": 10,
   "metadata": {},
   "outputs": [
    {
     "data": {
      "image/png": "[encoded data removed]",
      "text/plain": [
       "<Figure size 1200x600 with 1 Axes>"
      ]
     },
     "metadata": {},
     "output_type": "display_data"
    }
   ],
   "source": [
    "# Visualizing missing values\n",
    "plt.figure(figsize=(12, 6))\n",
    "plt.plot(df['vship'])\n",
    "plt.title(\"Missing Values in Dataset\")\n",
    "plt.show()"
   ]
  },
  {
   "cell_type": "code",
   "execution_count": 11,
   "metadata": {},
   "outputs": [],
   "source": [
    "df.to_csv(f\"../data/processed_data_{req_naics}.csv\")"
   ]
  }
 ],
 "metadata": {
  "kernelspec": {
   "display_name": "portfolio",
   "language": "python",
   "name": "python3"
  },
  "language_info": {
   "codemirror_mode": {
    "name": "ipython",
    "version": 3
   },
   "file_extension": ".py",
   "mimetype": "text/x-python",
   "name": "python",
   "nbconvert_exporter": "python",
   "pygments_lexer": "ipython3",
   "version": "3.11.11"
  }
 },
 "nbformat": 4,
 "nbformat_minor": 2
}
